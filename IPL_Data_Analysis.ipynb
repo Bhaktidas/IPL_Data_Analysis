{
  "cells": [
    {
      "cell_type": "code",
      "execution_count": null,
      "metadata": {
        "id": "YQyEjzpm0m1s"
      },
      "outputs": [],
      "source": [
        "#importing Libraries\n",
        "import numpy as np\n",
        "import pandas as pd\n",
        "\n",
        "import matplotlib.pyplot as plt\n",
        "import seaborn as sns\n",
        "\n",
        "from ipywidgets import interact\n",
        "\n",
        "plt.style.use('fivethirtyeight')\n"
      ]
    },
    {
      "cell_type": "code",
      "execution_count": null,
      "metadata": {
        "colab": {
          "base_uri": "https://localhost:8080/"
        },
        "id": "dRrw7bYn2Lve",
        "outputId": "af9fe798-eced-4f9c-8623-a9e5445f4f17"
      },
      "outputs": [
        {
          "output_type": "stream",
          "name": "stdout",
          "text": [
            "Shape of Matches Dataset :  (756, 18)\n"
          ]
        }
      ],
      "source": [
        "#lets read the dataset\n",
        "matches = pd.read_csv('/content/matches.csv')\n",
        "\n",
        "#lets check the shape these datasets\n",
        "print(\"Shape of Matches Dataset : \", matches.shape)"
      ]
    },
    {
      "cell_type": "code",
      "execution_count": null,
      "metadata": {
        "colab": {
          "base_uri": "https://localhost:8080/"
        },
        "id": "nxhg51RH3dMl",
        "outputId": "e96c2944-d8e6-4ccc-f295-baf82451f0c8"
      },
      "outputs": [
        {
          "output_type": "execute_result",
          "data": {
            "text/plain": [
              "Index(['id', 'Season', 'city', 'date', 'team1', 'team2', 'toss_winner',\n",
              "       'toss_decision', 'result', 'dl_applied', 'winner', 'win_by_runs',\n",
              "       'win_by_wickets', 'player_of_match', 'venue', 'umpire1', 'umpire2',\n",
              "       'umpire3'],\n",
              "      dtype='object')"
            ]
          },
          "metadata": {},
          "execution_count": 3
        }
      ],
      "source": [
        "matches.columns"
      ]
    },
    {
      "cell_type": "markdown",
      "metadata": {
        "id": "eUOrC2wv6vvG"
      },
      "source": [
        "**Summarizing Interesting Fact from the Data**"
      ]
    },
    {
      "cell_type": "code",
      "execution_count": null,
      "metadata": {
        "colab": {
          "base_uri": "https://localhost:8080/"
        },
        "id": "jOSgTg4z7A_8",
        "outputId": "b1032676-63e2-46cd-d71e-80cc2593e132"
      },
      "outputs": [
        {
          "output_type": "stream",
          "name": "stdout",
          "text": [
            "Total number of Teams: 15\n",
            "Total number of Seasons: 12\n",
            "Total number of Cities: 32\n",
            "Total number of Venues: 41\n"
          ]
        }
      ],
      "source": [
        "# Lets check the total number of cities venues associated with thw IPL matches\n",
        "print(\"Total number of Teams:\",matches['team1'].nunique())\n",
        "print(\"Total number of Seasons:\",matches['Season'].nunique())\n",
        "print(\"Total number of Cities:\",matches['city'].nunique())\n",
        "print(\"Total number of Venues:\",matches['venue'].nunique())"
      ]
    },
    {
      "cell_type": "code",
      "execution_count": null,
      "metadata": {
        "colab": {
          "base_uri": "https://localhost:8080/"
        },
        "id": "BOB-ataI70NL",
        "outputId": "805028ae-c9f5-4e7d-ab3e-d47e9adc4786"
      },
      "outputs": [
        {
          "output_type": "stream",
          "name": "stdout",
          "text": [
            "{nan, 'Chandigarh', 'Kolkata', 'Mohali', 'Raipur', 'Durban', 'Jaipur', 'Port Elizabeth', 'Dharamsala', 'Bloemfontein', 'Nagpur', 'Mumbai', 'Rajkot', 'Johannesburg', 'Hyderabad', 'Sharjah', 'Bengaluru', 'Visakhapatnam', 'Ranchi', 'Bangalore', 'Ahmedabad', 'Kimberley', 'Delhi', 'East London', 'Abu Dhabi', 'Kanpur', 'Centurion', 'Cuttack', 'Chennai', 'Indore', 'Pune', 'Kochi', 'Cape Town'}\n"
          ]
        }
      ],
      "source": [
        "# Lets check the name of cities also\n",
        "\n",
        "cities = set(matches['city'].unique())\n",
        "print(cities)"
      ]
    },
    {
      "cell_type": "code",
      "execution_count": null,
      "metadata": {
        "colab": {
          "base_uri": "https://localhost:8080/"
        },
        "id": "XkaPqyQd8Th0",
        "outputId": "fac58aeb-65fc-4905-ab92-6b94820e0e1f"
      },
      "outputs": [
        {
          "output_type": "stream",
          "name": "stdout",
          "text": [
            "{nan, 'Chandigarh', 'Kolkata', 'Mohali', 'Raipur', 'Durban', 'Jaipur', 'Port Elizabeth', 'Dharamsala', 'Bloemfontein', 'Nagpur', 'Mumbai', 'Rajkot', 'Johannesburg', 'Hyderabad', 'Sharjah', 'Bengaluru', 'Visakhapatnam', 'Ranchi', 'Ahmedabad', 'Kimberley', 'Delhi', 'East London', 'Abu Dhabi', 'Kanpur', 'Centurion', 'Cuttack', 'Chennai', 'Indore', 'Pune', 'Kochi', 'Cape Town'}\n"
          ]
        }
      ],
      "source": [
        "# As we can see that we have Bengaluru and Banglore Both in the Data we have change Bangalore as Bengaluru\n",
        "matches['city'] = matches['city'].replace(('Bangalore'),('Bengaluru'))\n",
        "\n",
        "#lets check the city names again\n",
        "cities = set(matches['city'].unique())\n",
        "print(cities)"
      ]
    },
    {
      "cell_type": "code",
      "execution_count": null,
      "metadata": {
        "colab": {
          "base_uri": "https://localhost:8080/"
        },
        "id": "mPuo3n379-hv",
        "outputId": "51c6ded8-3863-49df-ee82-c7db135c26ef"
      },
      "outputs": [
        {
          "output_type": "stream",
          "name": "stdout",
          "text": [
            "The Number of Umpires:  20\n",
            "Names of The Umpires:  {nan, 'C Shamshuddin', 'A Nanda Kishore', 'Yeshwant Barde', 'Vineet Kulkarni', 'Rod Tucker', 'Nigel Llong', 'KN Ananthapadmanabhan', 'S Ravi', 'Bruce Oxenford', 'Ian Gould', 'K Ananthapadmanabhan', 'Nitin Menon', 'O Nandan', 'Chris Gaffaney', 'Anil Dandekar', 'Anil Chaudhary', 'Kumar Dharmasena', 'Nanda Kishore', 'Ulhas Gandhe'}\n"
          ]
        }
      ],
      "source": [
        "# Lets find all the Umpires who had umpired for the Matches\n",
        "\n",
        "ump_1 = set(matches['umpire1'].unique())\n",
        "ump_2 = set(matches['umpire2'].unique())\n",
        "ump_3 = set(matches['umpire3'].unique())\n",
        "\n",
        "ump = ump_1.intersection(ump_2)\n",
        "ump = ump.intersection(ump_3)\n",
        "\n",
        "print(\"The Number of Umpires: \", len(ump))\n",
        "print(\"Names of The Umpires: \",ump)"
      ]
    },
    {
      "cell_type": "code",
      "execution_count": null,
      "metadata": {
        "colab": {
          "base_uri": "https://localhost:8080/",
          "height": 112
        },
        "id": "ycZlK972E2DI",
        "outputId": "153424ae-9621-4763-85e4-d4ef50fb1513"
      },
      "outputs": [
        {
          "output_type": "execute_result",
          "data": {
            "text/plain": [
              "         date                        team1             team2  \\\n",
              "0  08-04-2017  Royal Challengers Bangalore  Delhi Daredevils   \n",
              "1  08-05-2019          Sunrisers Hyderabad    Delhi Capitals   \n",
              "\n",
              "                        winner umpire1 umpire2 umpire3  \n",
              "0  Royal Challengers Bangalore     NaN     NaN     NaN  \n",
              "1               Delhi Capitals     NaN     NaN     NaN  "
            ],
            "text/html": [
              "\n",
              "  <div id=\"df-f8fe45a6-8589-45d6-8d30-1ecf3cabf1c4\">\n",
              "    <div class=\"colab-df-container\">\n",
              "      <div>\n",
              "<style scoped>\n",
              "    .dataframe tbody tr th:only-of-type {\n",
              "        vertical-align: middle;\n",
              "    }\n",
              "\n",
              "    .dataframe tbody tr th {\n",
              "        vertical-align: top;\n",
              "    }\n",
              "\n",
              "    .dataframe thead th {\n",
              "        text-align: right;\n",
              "    }\n",
              "</style>\n",
              "<table border=\"1\" class=\"dataframe\">\n",
              "  <thead>\n",
              "    <tr style=\"text-align: right;\">\n",
              "      <th></th>\n",
              "      <th>date</th>\n",
              "      <th>team1</th>\n",
              "      <th>team2</th>\n",
              "      <th>winner</th>\n",
              "      <th>umpire1</th>\n",
              "      <th>umpire2</th>\n",
              "      <th>umpire3</th>\n",
              "    </tr>\n",
              "  </thead>\n",
              "  <tbody>\n",
              "    <tr>\n",
              "      <th>0</th>\n",
              "      <td>08-04-2017</td>\n",
              "      <td>Royal Challengers Bangalore</td>\n",
              "      <td>Delhi Daredevils</td>\n",
              "      <td>Royal Challengers Bangalore</td>\n",
              "      <td>NaN</td>\n",
              "      <td>NaN</td>\n",
              "      <td>NaN</td>\n",
              "    </tr>\n",
              "    <tr>\n",
              "      <th>1</th>\n",
              "      <td>08-05-2019</td>\n",
              "      <td>Sunrisers Hyderabad</td>\n",
              "      <td>Delhi Capitals</td>\n",
              "      <td>Delhi Capitals</td>\n",
              "      <td>NaN</td>\n",
              "      <td>NaN</td>\n",
              "      <td>NaN</td>\n",
              "    </tr>\n",
              "  </tbody>\n",
              "</table>\n",
              "</div>\n",
              "      <button class=\"colab-df-convert\" onclick=\"convertToInteractive('df-f8fe45a6-8589-45d6-8d30-1ecf3cabf1c4')\"\n",
              "              title=\"Convert this dataframe to an interactive table.\"\n",
              "              style=\"display:none;\">\n",
              "        \n",
              "  <svg xmlns=\"http://www.w3.org/2000/svg\" height=\"24px\"viewBox=\"0 0 24 24\"\n",
              "       width=\"24px\">\n",
              "    <path d=\"M0 0h24v24H0V0z\" fill=\"none\"/>\n",
              "    <path d=\"M18.56 5.44l.94 2.06.94-2.06 2.06-.94-2.06-.94-.94-2.06-.94 2.06-2.06.94zm-11 1L8.5 8.5l.94-2.06 2.06-.94-2.06-.94L8.5 2.5l-.94 2.06-2.06.94zm10 10l.94 2.06.94-2.06 2.06-.94-2.06-.94-.94-2.06-.94 2.06-2.06.94z\"/><path d=\"M17.41 7.96l-1.37-1.37c-.4-.4-.92-.59-1.43-.59-.52 0-1.04.2-1.43.59L10.3 9.45l-7.72 7.72c-.78.78-.78 2.05 0 2.83L4 21.41c.39.39.9.59 1.41.59.51 0 1.02-.2 1.41-.59l7.78-7.78 2.81-2.81c.8-.78.8-2.07 0-2.86zM5.41 20L4 18.59l7.72-7.72 1.47 1.35L5.41 20z\"/>\n",
              "  </svg>\n",
              "      </button>\n",
              "      \n",
              "  <style>\n",
              "    .colab-df-container {\n",
              "      display:flex;\n",
              "      flex-wrap:wrap;\n",
              "      gap: 12px;\n",
              "    }\n",
              "\n",
              "    .colab-df-convert {\n",
              "      background-color: #E8F0FE;\n",
              "      border: none;\n",
              "      border-radius: 50%;\n",
              "      cursor: pointer;\n",
              "      display: none;\n",
              "      fill: #1967D2;\n",
              "      height: 32px;\n",
              "      padding: 0 0 0 0;\n",
              "      width: 32px;\n",
              "    }\n",
              "\n",
              "    .colab-df-convert:hover {\n",
              "      background-color: #E2EBFA;\n",
              "      box-shadow: 0px 1px 2px rgba(60, 64, 67, 0.3), 0px 1px 3px 1px rgba(60, 64, 67, 0.15);\n",
              "      fill: #174EA6;\n",
              "    }\n",
              "\n",
              "    [theme=dark] .colab-df-convert {\n",
              "      background-color: #3B4455;\n",
              "      fill: #D2E3FC;\n",
              "    }\n",
              "\n",
              "    [theme=dark] .colab-df-convert:hover {\n",
              "      background-color: #434B5C;\n",
              "      box-shadow: 0px 1px 3px 1px rgba(0, 0, 0, 0.15);\n",
              "      filter: drop-shadow(0px 1px 2px rgba(0, 0, 0, 0.3));\n",
              "      fill: #FFFFFF;\n",
              "    }\n",
              "  </style>\n",
              "\n",
              "      <script>\n",
              "        const buttonEl =\n",
              "          document.querySelector('#df-f8fe45a6-8589-45d6-8d30-1ecf3cabf1c4 button.colab-df-convert');\n",
              "        buttonEl.style.display =\n",
              "          google.colab.kernel.accessAllowed ? 'block' : 'none';\n",
              "\n",
              "        async function convertToInteractive(key) {\n",
              "          const element = document.querySelector('#df-f8fe45a6-8589-45d6-8d30-1ecf3cabf1c4');\n",
              "          const dataTable =\n",
              "            await google.colab.kernel.invokeFunction('convertToInteractive',\n",
              "                                                     [key], {});\n",
              "          if (!dataTable) return;\n",
              "\n",
              "          const docLinkHtml = 'Like what you see? Visit the ' +\n",
              "            '<a target=\"_blank\" href=https://colab.research.google.com/notebooks/data_table.ipynb>data table notebook</a>'\n",
              "            + ' to learn more about interactive tables.';\n",
              "          element.innerHTML = '';\n",
              "          dataTable['output_type'] = 'display_data';\n",
              "          await google.colab.output.renderOutput(dataTable, element);\n",
              "          const docLink = document.createElement('div');\n",
              "          docLink.innerHTML = docLinkHtml;\n",
              "          element.appendChild(docLink);\n",
              "        }\n",
              "      </script>\n",
              "    </div>\n",
              "  </div>\n",
              "  "
            ]
          },
          "metadata": {},
          "execution_count": 8
        }
      ],
      "source": [
        "# Lets find out all those matches where there were no umpires at all.\n",
        "\n",
        "matches[(matches['umpire1'].isnull()) &\n",
        "        (matches['umpire2'].isnull()) &\n",
        "        (matches['umpire3'].isnull())][['date','team1','team2','winner','umpire1','umpire2','umpire3']].reset_index(drop = True)"
      ]
    },
    {
      "cell_type": "markdown",
      "metadata": {
        "id": "FttXBhIlI9Hi"
      },
      "source": [
        "**Exploring the Best Players from IPL**"
      ]
    },
    {
      "cell_type": "code",
      "execution_count": null,
      "metadata": {
        "colab": {
          "base_uri": "https://localhost:8080/"
        },
        "id": "MV2SncRcG6Ai",
        "outputId": "585866ff-7d99-4b63-eb17-8bf749d5cf64"
      },
      "outputs": [
        {
          "output_type": "stream",
          "name": "stdout",
          "text": [
            "Number of Players who have won the \"Title of Player of the Match\" 226\n"
          ]
        },
        {
          "output_type": "execute_result",
          "data": {
            "text/plain": [
              "CH Gayle          21\n",
              "AB de Villiers    20\n",
              "RG Sharma         17\n",
              "MS Dhoni          17\n",
              "DA Warner         17\n",
              "YK Pathan         16\n",
              "SR Watson         15\n",
              "SK Raina          14\n",
              "G Gambhir         13\n",
              "MEK Hussey        12\n",
              "Name: player_of_match, dtype: int64"
            ]
          },
          "metadata": {},
          "execution_count": 9
        }
      ],
      "source": [
        "# Lets know more about the Player of the Matches \n",
        "print('Number of Players who have won the \"Title of Player of the Match\"',matches['player_of_match'].nunique())\n",
        "\n",
        "# Lets get the Names of Top 10 Player of the Matches\n",
        "matches['player_of_match'].value_counts().sort_values(ascending = False).head(10)"
      ]
    },
    {
      "cell_type": "code",
      "execution_count": null,
      "metadata": {
        "colab": {
          "base_uri": "https://localhost:8080/",
          "height": 707
        },
        "id": "Dp4WuLb1KogR",
        "outputId": "9ee107cc-c5dc-4a07-a97e-5f5919422faa"
      },
      "outputs": [
        {
          "output_type": "execute_result",
          "data": {
            "text/plain": [
              "          date                        team1                        team2  \\\n",
              "0   18-04-2017  Royal Challengers Bangalore                Gujarat Lions   \n",
              "1   21-04-2009              Kings XI Punjab        Kolkata Knight Riders   \n",
              "2   22-04-2011        Kolkata Knight Riders  Royal Challengers Bangalore   \n",
              "3   06-05-2011  Royal Challengers Bangalore              Kings XI Punjab   \n",
              "4   08-05-2011         Kochi Tuskers Kerala  Royal Challengers Bangalore   \n",
              "5   14-05-2011        Kolkata Knight Riders  Royal Challengers Bangalore   \n",
              "6   22-05-2011          Chennai Super Kings  Royal Challengers Bangalore   \n",
              "7   27-05-2011  Royal Challengers Bangalore               Mumbai Indians   \n",
              "8   17-04-2012                Pune Warriors  Royal Challengers Bangalore   \n",
              "9   20-04-2012              Kings XI Punjab  Royal Challengers Bangalore   \n",
              "10  09-05-2012               Mumbai Indians  Royal Challengers Bangalore   \n",
              "11  11-05-2012  Royal Challengers Bangalore                Pune Warriors   \n",
              "12  17-05-2012  Royal Challengers Bangalore             Delhi Daredevils   \n",
              "13  04-04-2013  Royal Challengers Bangalore               Mumbai Indians   \n",
              "14  11-04-2013        Kolkata Knight Riders  Royal Challengers Bangalore   \n",
              "15  23-04-2013  Royal Challengers Bangalore                Pune Warriors   \n",
              "16  11-04-2015        Kolkata Knight Riders  Royal Challengers Bangalore   \n",
              "17  06-05-2015  Royal Challengers Bangalore              Kings XI Punjab   \n",
              "18  15-04-2018              Kings XI Punjab          Chennai Super Kings   \n",
              "19  19-04-2018              Kings XI Punjab          Sunrisers Hyderabad   \n",
              "20  25-03-2019              Kings XI Punjab             Rajasthan Royals   \n",
              "\n",
              "                         winner  \n",
              "0   Royal Challengers Bangalore  \n",
              "1         Kolkata Knight Riders  \n",
              "2   Royal Challengers Bangalore  \n",
              "3   Royal Challengers Bangalore  \n",
              "4   Royal Challengers Bangalore  \n",
              "5   Royal Challengers Bangalore  \n",
              "6   Royal Challengers Bangalore  \n",
              "7   Royal Challengers Bangalore  \n",
              "8   Royal Challengers Bangalore  \n",
              "9   Royal Challengers Bangalore  \n",
              "10  Royal Challengers Bangalore  \n",
              "11  Royal Challengers Bangalore  \n",
              "12  Royal Challengers Bangalore  \n",
              "13  Royal Challengers Bangalore  \n",
              "14  Royal Challengers Bangalore  \n",
              "15  Royal Challengers Bangalore  \n",
              "16  Royal Challengers Bangalore  \n",
              "17  Royal Challengers Bangalore  \n",
              "18              Kings XI Punjab  \n",
              "19              Kings XI Punjab  \n",
              "20              Kings XI Punjab  "
            ],
            "text/html": [
              "\n",
              "  <div id=\"df-71fc15e1-30a4-454b-891b-61c76697b1df\">\n",
              "    <div class=\"colab-df-container\">\n",
              "      <div>\n",
              "<style scoped>\n",
              "    .dataframe tbody tr th:only-of-type {\n",
              "        vertical-align: middle;\n",
              "    }\n",
              "\n",
              "    .dataframe tbody tr th {\n",
              "        vertical-align: top;\n",
              "    }\n",
              "\n",
              "    .dataframe thead th {\n",
              "        text-align: right;\n",
              "    }\n",
              "</style>\n",
              "<table border=\"1\" class=\"dataframe\">\n",
              "  <thead>\n",
              "    <tr style=\"text-align: right;\">\n",
              "      <th></th>\n",
              "      <th>date</th>\n",
              "      <th>team1</th>\n",
              "      <th>team2</th>\n",
              "      <th>winner</th>\n",
              "    </tr>\n",
              "  </thead>\n",
              "  <tbody>\n",
              "    <tr>\n",
              "      <th>0</th>\n",
              "      <td>18-04-2017</td>\n",
              "      <td>Royal Challengers Bangalore</td>\n",
              "      <td>Gujarat Lions</td>\n",
              "      <td>Royal Challengers Bangalore</td>\n",
              "    </tr>\n",
              "    <tr>\n",
              "      <th>1</th>\n",
              "      <td>21-04-2009</td>\n",
              "      <td>Kings XI Punjab</td>\n",
              "      <td>Kolkata Knight Riders</td>\n",
              "      <td>Kolkata Knight Riders</td>\n",
              "    </tr>\n",
              "    <tr>\n",
              "      <th>2</th>\n",
              "      <td>22-04-2011</td>\n",
              "      <td>Kolkata Knight Riders</td>\n",
              "      <td>Royal Challengers Bangalore</td>\n",
              "      <td>Royal Challengers Bangalore</td>\n",
              "    </tr>\n",
              "    <tr>\n",
              "      <th>3</th>\n",
              "      <td>06-05-2011</td>\n",
              "      <td>Royal Challengers Bangalore</td>\n",
              "      <td>Kings XI Punjab</td>\n",
              "      <td>Royal Challengers Bangalore</td>\n",
              "    </tr>\n",
              "    <tr>\n",
              "      <th>4</th>\n",
              "      <td>08-05-2011</td>\n",
              "      <td>Kochi Tuskers Kerala</td>\n",
              "      <td>Royal Challengers Bangalore</td>\n",
              "      <td>Royal Challengers Bangalore</td>\n",
              "    </tr>\n",
              "    <tr>\n",
              "      <th>5</th>\n",
              "      <td>14-05-2011</td>\n",
              "      <td>Kolkata Knight Riders</td>\n",
              "      <td>Royal Challengers Bangalore</td>\n",
              "      <td>Royal Challengers Bangalore</td>\n",
              "    </tr>\n",
              "    <tr>\n",
              "      <th>6</th>\n",
              "      <td>22-05-2011</td>\n",
              "      <td>Chennai Super Kings</td>\n",
              "      <td>Royal Challengers Bangalore</td>\n",
              "      <td>Royal Challengers Bangalore</td>\n",
              "    </tr>\n",
              "    <tr>\n",
              "      <th>7</th>\n",
              "      <td>27-05-2011</td>\n",
              "      <td>Royal Challengers Bangalore</td>\n",
              "      <td>Mumbai Indians</td>\n",
              "      <td>Royal Challengers Bangalore</td>\n",
              "    </tr>\n",
              "    <tr>\n",
              "      <th>8</th>\n",
              "      <td>17-04-2012</td>\n",
              "      <td>Pune Warriors</td>\n",
              "      <td>Royal Challengers Bangalore</td>\n",
              "      <td>Royal Challengers Bangalore</td>\n",
              "    </tr>\n",
              "    <tr>\n",
              "      <th>9</th>\n",
              "      <td>20-04-2012</td>\n",
              "      <td>Kings XI Punjab</td>\n",
              "      <td>Royal Challengers Bangalore</td>\n",
              "      <td>Royal Challengers Bangalore</td>\n",
              "    </tr>\n",
              "    <tr>\n",
              "      <th>10</th>\n",
              "      <td>09-05-2012</td>\n",
              "      <td>Mumbai Indians</td>\n",
              "      <td>Royal Challengers Bangalore</td>\n",
              "      <td>Royal Challengers Bangalore</td>\n",
              "    </tr>\n",
              "    <tr>\n",
              "      <th>11</th>\n",
              "      <td>11-05-2012</td>\n",
              "      <td>Royal Challengers Bangalore</td>\n",
              "      <td>Pune Warriors</td>\n",
              "      <td>Royal Challengers Bangalore</td>\n",
              "    </tr>\n",
              "    <tr>\n",
              "      <th>12</th>\n",
              "      <td>17-05-2012</td>\n",
              "      <td>Royal Challengers Bangalore</td>\n",
              "      <td>Delhi Daredevils</td>\n",
              "      <td>Royal Challengers Bangalore</td>\n",
              "    </tr>\n",
              "    <tr>\n",
              "      <th>13</th>\n",
              "      <td>04-04-2013</td>\n",
              "      <td>Royal Challengers Bangalore</td>\n",
              "      <td>Mumbai Indians</td>\n",
              "      <td>Royal Challengers Bangalore</td>\n",
              "    </tr>\n",
              "    <tr>\n",
              "      <th>14</th>\n",
              "      <td>11-04-2013</td>\n",
              "      <td>Kolkata Knight Riders</td>\n",
              "      <td>Royal Challengers Bangalore</td>\n",
              "      <td>Royal Challengers Bangalore</td>\n",
              "    </tr>\n",
              "    <tr>\n",
              "      <th>15</th>\n",
              "      <td>23-04-2013</td>\n",
              "      <td>Royal Challengers Bangalore</td>\n",
              "      <td>Pune Warriors</td>\n",
              "      <td>Royal Challengers Bangalore</td>\n",
              "    </tr>\n",
              "    <tr>\n",
              "      <th>16</th>\n",
              "      <td>11-04-2015</td>\n",
              "      <td>Kolkata Knight Riders</td>\n",
              "      <td>Royal Challengers Bangalore</td>\n",
              "      <td>Royal Challengers Bangalore</td>\n",
              "    </tr>\n",
              "    <tr>\n",
              "      <th>17</th>\n",
              "      <td>06-05-2015</td>\n",
              "      <td>Royal Challengers Bangalore</td>\n",
              "      <td>Kings XI Punjab</td>\n",
              "      <td>Royal Challengers Bangalore</td>\n",
              "    </tr>\n",
              "    <tr>\n",
              "      <th>18</th>\n",
              "      <td>15-04-2018</td>\n",
              "      <td>Kings XI Punjab</td>\n",
              "      <td>Chennai Super Kings</td>\n",
              "      <td>Kings XI Punjab</td>\n",
              "    </tr>\n",
              "    <tr>\n",
              "      <th>19</th>\n",
              "      <td>19-04-2018</td>\n",
              "      <td>Kings XI Punjab</td>\n",
              "      <td>Sunrisers Hyderabad</td>\n",
              "      <td>Kings XI Punjab</td>\n",
              "    </tr>\n",
              "    <tr>\n",
              "      <th>20</th>\n",
              "      <td>25-03-2019</td>\n",
              "      <td>Kings XI Punjab</td>\n",
              "      <td>Rajasthan Royals</td>\n",
              "      <td>Kings XI Punjab</td>\n",
              "    </tr>\n",
              "  </tbody>\n",
              "</table>\n",
              "</div>\n",
              "      <button class=\"colab-df-convert\" onclick=\"convertToInteractive('df-71fc15e1-30a4-454b-891b-61c76697b1df')\"\n",
              "              title=\"Convert this dataframe to an interactive table.\"\n",
              "              style=\"display:none;\">\n",
              "        \n",
              "  <svg xmlns=\"http://www.w3.org/2000/svg\" height=\"24px\"viewBox=\"0 0 24 24\"\n",
              "       width=\"24px\">\n",
              "    <path d=\"M0 0h24v24H0V0z\" fill=\"none\"/>\n",
              "    <path d=\"M18.56 5.44l.94 2.06.94-2.06 2.06-.94-2.06-.94-.94-2.06-.94 2.06-2.06.94zm-11 1L8.5 8.5l.94-2.06 2.06-.94-2.06-.94L8.5 2.5l-.94 2.06-2.06.94zm10 10l.94 2.06.94-2.06 2.06-.94-2.06-.94-.94-2.06-.94 2.06-2.06.94z\"/><path d=\"M17.41 7.96l-1.37-1.37c-.4-.4-.92-.59-1.43-.59-.52 0-1.04.2-1.43.59L10.3 9.45l-7.72 7.72c-.78.78-.78 2.05 0 2.83L4 21.41c.39.39.9.59 1.41.59.51 0 1.02-.2 1.41-.59l7.78-7.78 2.81-2.81c.8-.78.8-2.07 0-2.86zM5.41 20L4 18.59l7.72-7.72 1.47 1.35L5.41 20z\"/>\n",
              "  </svg>\n",
              "      </button>\n",
              "      \n",
              "  <style>\n",
              "    .colab-df-container {\n",
              "      display:flex;\n",
              "      flex-wrap:wrap;\n",
              "      gap: 12px;\n",
              "    }\n",
              "\n",
              "    .colab-df-convert {\n",
              "      background-color: #E8F0FE;\n",
              "      border: none;\n",
              "      border-radius: 50%;\n",
              "      cursor: pointer;\n",
              "      display: none;\n",
              "      fill: #1967D2;\n",
              "      height: 32px;\n",
              "      padding: 0 0 0 0;\n",
              "      width: 32px;\n",
              "    }\n",
              "\n",
              "    .colab-df-convert:hover {\n",
              "      background-color: #E2EBFA;\n",
              "      box-shadow: 0px 1px 2px rgba(60, 64, 67, 0.3), 0px 1px 3px 1px rgba(60, 64, 67, 0.15);\n",
              "      fill: #174EA6;\n",
              "    }\n",
              "\n",
              "    [theme=dark] .colab-df-convert {\n",
              "      background-color: #3B4455;\n",
              "      fill: #D2E3FC;\n",
              "    }\n",
              "\n",
              "    [theme=dark] .colab-df-convert:hover {\n",
              "      background-color: #434B5C;\n",
              "      box-shadow: 0px 1px 3px 1px rgba(0, 0, 0, 0.15);\n",
              "      filter: drop-shadow(0px 1px 2px rgba(0, 0, 0, 0.3));\n",
              "      fill: #FFFFFF;\n",
              "    }\n",
              "  </style>\n",
              "\n",
              "      <script>\n",
              "        const buttonEl =\n",
              "          document.querySelector('#df-71fc15e1-30a4-454b-891b-61c76697b1df button.colab-df-convert');\n",
              "        buttonEl.style.display =\n",
              "          google.colab.kernel.accessAllowed ? 'block' : 'none';\n",
              "\n",
              "        async function convertToInteractive(key) {\n",
              "          const element = document.querySelector('#df-71fc15e1-30a4-454b-891b-61c76697b1df');\n",
              "          const dataTable =\n",
              "            await google.colab.kernel.invokeFunction('convertToInteractive',\n",
              "                                                     [key], {});\n",
              "          if (!dataTable) return;\n",
              "\n",
              "          const docLinkHtml = 'Like what you see? Visit the ' +\n",
              "            '<a target=\"_blank\" href=https://colab.research.google.com/notebooks/data_table.ipynb>data table notebook</a>'\n",
              "            + ' to learn more about interactive tables.';\n",
              "          element.innerHTML = '';\n",
              "          dataTable['output_type'] = 'display_data';\n",
              "          await google.colab.output.renderOutput(dataTable, element);\n",
              "          const docLink = document.createElement('div');\n",
              "          docLink.innerHTML = docLinkHtml;\n",
              "          element.appendChild(docLink);\n",
              "        }\n",
              "      </script>\n",
              "    </div>\n",
              "  </div>\n",
              "  "
            ]
          },
          "metadata": {},
          "execution_count": 10
        }
      ],
      "source": [
        "# Lets check all those Matches where Chris Gayle Won the Title of \"Player of the Match\"\n",
        "\n",
        "matches[matches['player_of_match'] == 'CH Gayle'][['date','team1','team2','winner']].reset_index(drop = True)"
      ]
    },
    {
      "cell_type": "code",
      "execution_count": null,
      "metadata": {
        "colab": {
          "base_uri": "https://localhost:8080/"
        },
        "id": "GwRtuIB6MHs6",
        "outputId": "ee0a50d4-f8d8-42d9-84e2-9eac62f88e27"
      },
      "outputs": [
        {
          "output_type": "stream",
          "name": "stdout",
          "text": [
            "number of Matches won\n",
            "Kings XI Punjab                12\n",
            "Royal Challengers Bangalore    11\n",
            "Name: winner, dtype: int64\n",
            "\n",
            "Win by Total Runs and Wickets\n",
            "                             win_by_runs  win_by_wickets\n",
            "winner                                                  \n",
            "Kings XI Punjab                       63              41\n",
            "Royal Challengers Bangalore           56              37\n"
          ]
        }
      ],
      "source": [
        "# As it is clear that from the season IPL-2018 Gayle played for kings XI Punjab,\n",
        "# lets analyze and compare kings XI Punjab and RCB After CH Gayle\n",
        "\n",
        "after_gayle = matches[(matches['Season'] == 'IPL-2018') | (matches['Season'] == 'IPL-2019')]\n",
        "after_gayle_rcb = after_gayle[(after_gayle['winner'] == 'Royal Challengers Bangalore') |\n",
        "                               (after_gayle['winner'] == 'Kings XI Punjab')]\n",
        "\n",
        "print('number of Matches won')\n",
        "print(after_gayle_rcb['winner'].value_counts())\n",
        "\n",
        "print(\"\\nWin by Total Runs and Wickets\")\n",
        "print(after_gayle_rcb[['win_by_runs','win_by_wickets','winner']].groupby(['winner']).sum())"
      ]
    },
    {
      "cell_type": "code",
      "execution_count": null,
      "metadata": {
        "colab": {
          "base_uri": "https://localhost:8080/",
          "height": 174
        },
        "id": "55KR33g8N4n_",
        "outputId": "f0dc161a-6075-4c67-994c-8a21f816d4b9"
      },
      "outputs": [
        {
          "output_type": "execute_result",
          "data": {
            "text/plain": [
              "       Season                        team1                        team2  \\\n",
              "643  IPL-2018              Kings XI Punjab  Royal Challengers Bangalore   \n",
              "683  IPL-2018              Kings XI Punjab  Royal Challengers Bangalore   \n",
              "723  IPL-2019              Kings XI Punjab  Royal Challengers Bangalore   \n",
              "737  IPL-2019  Royal Challengers Bangalore              Kings XI Punjab   \n",
              "\n",
              "                          winner  \n",
              "643  Royal Challengers Bangalore  \n",
              "683  Royal Challengers Bangalore  \n",
              "723  Royal Challengers Bangalore  \n",
              "737  Royal Challengers Bangalore  "
            ],
            "text/html": [
              "\n",
              "  <div id=\"df-5872a420-88df-48f4-b994-2d10028bbec5\">\n",
              "    <div class=\"colab-df-container\">\n",
              "      <div>\n",
              "<style scoped>\n",
              "    .dataframe tbody tr th:only-of-type {\n",
              "        vertical-align: middle;\n",
              "    }\n",
              "\n",
              "    .dataframe tbody tr th {\n",
              "        vertical-align: top;\n",
              "    }\n",
              "\n",
              "    .dataframe thead th {\n",
              "        text-align: right;\n",
              "    }\n",
              "</style>\n",
              "<table border=\"1\" class=\"dataframe\">\n",
              "  <thead>\n",
              "    <tr style=\"text-align: right;\">\n",
              "      <th></th>\n",
              "      <th>Season</th>\n",
              "      <th>team1</th>\n",
              "      <th>team2</th>\n",
              "      <th>winner</th>\n",
              "    </tr>\n",
              "  </thead>\n",
              "  <tbody>\n",
              "    <tr>\n",
              "      <th>643</th>\n",
              "      <td>IPL-2018</td>\n",
              "      <td>Kings XI Punjab</td>\n",
              "      <td>Royal Challengers Bangalore</td>\n",
              "      <td>Royal Challengers Bangalore</td>\n",
              "    </tr>\n",
              "    <tr>\n",
              "      <th>683</th>\n",
              "      <td>IPL-2018</td>\n",
              "      <td>Kings XI Punjab</td>\n",
              "      <td>Royal Challengers Bangalore</td>\n",
              "      <td>Royal Challengers Bangalore</td>\n",
              "    </tr>\n",
              "    <tr>\n",
              "      <th>723</th>\n",
              "      <td>IPL-2019</td>\n",
              "      <td>Kings XI Punjab</td>\n",
              "      <td>Royal Challengers Bangalore</td>\n",
              "      <td>Royal Challengers Bangalore</td>\n",
              "    </tr>\n",
              "    <tr>\n",
              "      <th>737</th>\n",
              "      <td>IPL-2019</td>\n",
              "      <td>Royal Challengers Bangalore</td>\n",
              "      <td>Kings XI Punjab</td>\n",
              "      <td>Royal Challengers Bangalore</td>\n",
              "    </tr>\n",
              "  </tbody>\n",
              "</table>\n",
              "</div>\n",
              "      <button class=\"colab-df-convert\" onclick=\"convertToInteractive('df-5872a420-88df-48f4-b994-2d10028bbec5')\"\n",
              "              title=\"Convert this dataframe to an interactive table.\"\n",
              "              style=\"display:none;\">\n",
              "        \n",
              "  <svg xmlns=\"http://www.w3.org/2000/svg\" height=\"24px\"viewBox=\"0 0 24 24\"\n",
              "       width=\"24px\">\n",
              "    <path d=\"M0 0h24v24H0V0z\" fill=\"none\"/>\n",
              "    <path d=\"M18.56 5.44l.94 2.06.94-2.06 2.06-.94-2.06-.94-.94-2.06-.94 2.06-2.06.94zm-11 1L8.5 8.5l.94-2.06 2.06-.94-2.06-.94L8.5 2.5l-.94 2.06-2.06.94zm10 10l.94 2.06.94-2.06 2.06-.94-2.06-.94-.94-2.06-.94 2.06-2.06.94z\"/><path d=\"M17.41 7.96l-1.37-1.37c-.4-.4-.92-.59-1.43-.59-.52 0-1.04.2-1.43.59L10.3 9.45l-7.72 7.72c-.78.78-.78 2.05 0 2.83L4 21.41c.39.39.9.59 1.41.59.51 0 1.02-.2 1.41-.59l7.78-7.78 2.81-2.81c.8-.78.8-2.07 0-2.86zM5.41 20L4 18.59l7.72-7.72 1.47 1.35L5.41 20z\"/>\n",
              "  </svg>\n",
              "      </button>\n",
              "      \n",
              "  <style>\n",
              "    .colab-df-container {\n",
              "      display:flex;\n",
              "      flex-wrap:wrap;\n",
              "      gap: 12px;\n",
              "    }\n",
              "\n",
              "    .colab-df-convert {\n",
              "      background-color: #E8F0FE;\n",
              "      border: none;\n",
              "      border-radius: 50%;\n",
              "      cursor: pointer;\n",
              "      display: none;\n",
              "      fill: #1967D2;\n",
              "      height: 32px;\n",
              "      padding: 0 0 0 0;\n",
              "      width: 32px;\n",
              "    }\n",
              "\n",
              "    .colab-df-convert:hover {\n",
              "      background-color: #E2EBFA;\n",
              "      box-shadow: 0px 1px 2px rgba(60, 64, 67, 0.3), 0px 1px 3px 1px rgba(60, 64, 67, 0.15);\n",
              "      fill: #174EA6;\n",
              "    }\n",
              "\n",
              "    [theme=dark] .colab-df-convert {\n",
              "      background-color: #3B4455;\n",
              "      fill: #D2E3FC;\n",
              "    }\n",
              "\n",
              "    [theme=dark] .colab-df-convert:hover {\n",
              "      background-color: #434B5C;\n",
              "      box-shadow: 0px 1px 3px 1px rgba(0, 0, 0, 0.15);\n",
              "      filter: drop-shadow(0px 1px 2px rgba(0, 0, 0, 0.3));\n",
              "      fill: #FFFFFF;\n",
              "    }\n",
              "  </style>\n",
              "\n",
              "      <script>\n",
              "        const buttonEl =\n",
              "          document.querySelector('#df-5872a420-88df-48f4-b994-2d10028bbec5 button.colab-df-convert');\n",
              "        buttonEl.style.display =\n",
              "          google.colab.kernel.accessAllowed ? 'block' : 'none';\n",
              "\n",
              "        async function convertToInteractive(key) {\n",
              "          const element = document.querySelector('#df-5872a420-88df-48f4-b994-2d10028bbec5');\n",
              "          const dataTable =\n",
              "            await google.colab.kernel.invokeFunction('convertToInteractive',\n",
              "                                                     [key], {});\n",
              "          if (!dataTable) return;\n",
              "\n",
              "          const docLinkHtml = 'Like what you see? Visit the ' +\n",
              "            '<a target=\"_blank\" href=https://colab.research.google.com/notebooks/data_table.ipynb>data table notebook</a>'\n",
              "            + ' to learn more about interactive tables.';\n",
              "          element.innerHTML = '';\n",
              "          dataTable['output_type'] = 'display_data';\n",
              "          await google.colab.output.renderOutput(dataTable, element);\n",
              "          const docLink = document.createElement('div');\n",
              "          docLink.innerHTML = docLinkHtml;\n",
              "          element.appendChild(docLink);\n",
              "        }\n",
              "      </script>\n",
              "    </div>\n",
              "  </div>\n",
              "  "
            ]
          },
          "metadata": {},
          "execution_count": 12
        }
      ],
      "source": [
        "#total matches between KXIP and RCB after 2018\n",
        "matches_won_rcb = matches[(matches['Season'] == 'IPL-2018') | (matches['Season'] == 'IPL-2019')]\n",
        "matches_won_rcb = matches_won_rcb[((matches_won_rcb['team1'] == 'Royal Challengers Bangalore') &\n",
        "                                  (matches_won_rcb['team2'] == 'Kings XI Punjab')) |\n",
        "                                  ((matches_won_rcb['team1'] == 'Kings XI Punjab') &\n",
        "                                  (matches_won_rcb['team2'] == 'Royal Challengers Bangalore')) \n",
        "                                 ]\n",
        "matches_won_rcb[['Season','team1','team2','winner']]"
      ]
    },
    {
      "cell_type": "code",
      "execution_count": null,
      "metadata": {
        "colab": {
          "base_uri": "https://localhost:8080/",
          "height": 255,
          "referenced_widgets": [
            "7eff8aa915684fb6a71fe3fa774f8b02",
            "58b0d7fc46914490800482f7e0a59f7f",
            "60d33839514e4450adc646e21fc6fa0d",
            "361b6a9487d74e449e8b3ddd889f1ea9",
            "d5271cac661d4f48b96f760f73ec4f12",
            "47c4b7ebcfef465d892b0897e80e1acf",
            "68285cd0294f45048f17817c079aee67",
            "52439d6fb20b444293d4e08906f635ec",
            "7766571c4ca94eaea6dc8fa8207f5c81",
            "21b9679ff495463ba40d252b2c2f7032"
          ]
        },
        "id": "PcCJV8BsR8En",
        "outputId": "52863786-dcec-45a1-cbfe-bb69a8e28013"
      },
      "outputs": [
        {
          "output_type": "display_data",
          "data": {
            "text/plain": [
              "interactive(children=(Dropdown(description='season', options=('IPL-2013', 'IPL-2012', 'IPL-2011', 'IPL-2010', …"
            ],
            "application/vnd.jupyter.widget-view+json": {
              "version_major": 2,
              "version_minor": 0,
              "model_id": "7eff8aa915684fb6a71fe3fa774f8b02"
            }
          },
          "metadata": {}
        }
      ],
      "source": [
        "# Lets check all the Player of the Matches per season and per Team\n",
        "\n",
        "@interact\n",
        "def best_players(season = list(matches['Season'].value_counts().index),\n",
        "                 team = list(matches['team1'].value_counts().index)):\n",
        "    a = matches[(matches['Season'] == season) & (matches['team1'] == team)]\n",
        "    return a['player_of_match'].value_counts()"
      ]
    },
    {
      "cell_type": "markdown",
      "metadata": {
        "id": "-vYoD0JK6T-3"
      },
      "source": [
        "**Discovering the Biggest Matches in IPL**\n"
      ]
    },
    {
      "cell_type": "code",
      "execution_count": null,
      "metadata": {
        "colab": {
          "base_uri": "https://localhost:8080/",
          "height": 495
        },
        "id": "PYNuayhsUTVk",
        "outputId": "409a05aa-b0bc-4359-9bbd-b961cb0eef4d"
      },
      "outputs": [
        {
          "output_type": "stream",
          "name": "stdout",
          "text": [
            "       win_by_runs  win_by_wickets\n",
            "count   756.000000      756.000000\n",
            "mean     13.283069        3.350529\n",
            "std      23.471144        3.387963\n",
            "min       0.000000        0.000000\n",
            "25%       0.000000        0.000000\n",
            "50%       0.000000        4.000000\n",
            "75%      19.000000        6.000000\n",
            "max     146.000000       10.000000\n"
          ]
        },
        {
          "output_type": "display_data",
          "data": {
            "text/plain": [
              "<Figure size 1000x300 with 1 Axes>"
            ],
            "image/png": "[encoded data removed]"
          },
          "metadata": {}
        }
      ],
      "source": [
        "#lets analyze the winning scores\n",
        "\n",
        "print(matches[['win_by_runs', 'win_by_wickets']].describe())\n",
        "\n",
        "plt.rcParams['figure.figsize']= (10,3)\n",
        "matches[['win_by_runs', 'win_by_wickets']].describe().plot(kind = 'bar')\n",
        "plt.show()"
      ]
    },
    {
      "cell_type": "code",
      "execution_count": null,
      "metadata": {
        "colab": {
          "base_uri": "https://localhost:8080/",
          "height": 80
        },
        "id": "qyXD_Cxw7Ylq",
        "outputId": "7aa2039f-2c0c-452e-9662-b3fae3e98b3a"
      },
      "outputs": [
        {
          "output_type": "execute_result",
          "data": {
            "text/plain": [
              "     Season           team1             team2          winner player_of_match\n",
              "0  IPL-2017  Mumbai Indians  Delhi Daredevils  Mumbai Indians     LMP Simmons"
            ],
            "text/html": [
              "\n",
              "  <div id=\"df-da465386-6093-4c62-908c-ddf71f924a4b\">\n",
              "    <div class=\"colab-df-container\">\n",
              "      <div>\n",
              "<style scoped>\n",
              "    .dataframe tbody tr th:only-of-type {\n",
              "        vertical-align: middle;\n",
              "    }\n",
              "\n",
              "    .dataframe tbody tr th {\n",
              "        vertical-align: top;\n",
              "    }\n",
              "\n",
              "    .dataframe thead th {\n",
              "        text-align: right;\n",
              "    }\n",
              "</style>\n",
              "<table border=\"1\" class=\"dataframe\">\n",
              "  <thead>\n",
              "    <tr style=\"text-align: right;\">\n",
              "      <th></th>\n",
              "      <th>Season</th>\n",
              "      <th>team1</th>\n",
              "      <th>team2</th>\n",
              "      <th>winner</th>\n",
              "      <th>player_of_match</th>\n",
              "    </tr>\n",
              "  </thead>\n",
              "  <tbody>\n",
              "    <tr>\n",
              "      <th>0</th>\n",
              "      <td>IPL-2017</td>\n",
              "      <td>Mumbai Indians</td>\n",
              "      <td>Delhi Daredevils</td>\n",
              "      <td>Mumbai Indians</td>\n",
              "      <td>LMP Simmons</td>\n",
              "    </tr>\n",
              "  </tbody>\n",
              "</table>\n",
              "</div>\n",
              "      <button class=\"colab-df-convert\" onclick=\"convertToInteractive('df-da465386-6093-4c62-908c-ddf71f924a4b')\"\n",
              "              title=\"Convert this dataframe to an interactive table.\"\n",
              "              style=\"display:none;\">\n",
              "        \n",
              "  <svg xmlns=\"http://www.w3.org/2000/svg\" height=\"24px\"viewBox=\"0 0 24 24\"\n",
              "       width=\"24px\">\n",
              "    <path d=\"M0 0h24v24H0V0z\" fill=\"none\"/>\n",
              "    <path d=\"M18.56 5.44l.94 2.06.94-2.06 2.06-.94-2.06-.94-.94-2.06-.94 2.06-2.06.94zm-11 1L8.5 8.5l.94-2.06 2.06-.94-2.06-.94L8.5 2.5l-.94 2.06-2.06.94zm10 10l.94 2.06.94-2.06 2.06-.94-2.06-.94-.94-2.06-.94 2.06-2.06.94z\"/><path d=\"M17.41 7.96l-1.37-1.37c-.4-.4-.92-.59-1.43-.59-.52 0-1.04.2-1.43.59L10.3 9.45l-7.72 7.72c-.78.78-.78 2.05 0 2.83L4 21.41c.39.39.9.59 1.41.59.51 0 1.02-.2 1.41-.59l7.78-7.78 2.81-2.81c.8-.78.8-2.07 0-2.86zM5.41 20L4 18.59l7.72-7.72 1.47 1.35L5.41 20z\"/>\n",
              "  </svg>\n",
              "      </button>\n",
              "      \n",
              "  <style>\n",
              "    .colab-df-container {\n",
              "      display:flex;\n",
              "      flex-wrap:wrap;\n",
              "      gap: 12px;\n",
              "    }\n",
              "\n",
              "    .colab-df-convert {\n",
              "      background-color: #E8F0FE;\n",
              "      border: none;\n",
              "      border-radius: 50%;\n",
              "      cursor: pointer;\n",
              "      display: none;\n",
              "      fill: #1967D2;\n",
              "      height: 32px;\n",
              "      padding: 0 0 0 0;\n",
              "      width: 32px;\n",
              "    }\n",
              "\n",
              "    .colab-df-convert:hover {\n",
              "      background-color: #E2EBFA;\n",
              "      box-shadow: 0px 1px 2px rgba(60, 64, 67, 0.3), 0px 1px 3px 1px rgba(60, 64, 67, 0.15);\n",
              "      fill: #174EA6;\n",
              "    }\n",
              "\n",
              "    [theme=dark] .colab-df-convert {\n",
              "      background-color: #3B4455;\n",
              "      fill: #D2E3FC;\n",
              "    }\n",
              "\n",
              "    [theme=dark] .colab-df-convert:hover {\n",
              "      background-color: #434B5C;\n",
              "      box-shadow: 0px 1px 3px 1px rgba(0, 0, 0, 0.15);\n",
              "      filter: drop-shadow(0px 1px 2px rgba(0, 0, 0, 0.3));\n",
              "      fill: #FFFFFF;\n",
              "    }\n",
              "  </style>\n",
              "\n",
              "      <script>\n",
              "        const buttonEl =\n",
              "          document.querySelector('#df-da465386-6093-4c62-908c-ddf71f924a4b button.colab-df-convert');\n",
              "        buttonEl.style.display =\n",
              "          google.colab.kernel.accessAllowed ? 'block' : 'none';\n",
              "\n",
              "        async function convertToInteractive(key) {\n",
              "          const element = document.querySelector('#df-da465386-6093-4c62-908c-ddf71f924a4b');\n",
              "          const dataTable =\n",
              "            await google.colab.kernel.invokeFunction('convertToInteractive',\n",
              "                                                     [key], {});\n",
              "          if (!dataTable) return;\n",
              "\n",
              "          const docLinkHtml = 'Like what you see? Visit the ' +\n",
              "            '<a target=\"_blank\" href=https://colab.research.google.com/notebooks/data_table.ipynb>data table notebook</a>'\n",
              "            + ' to learn more about interactive tables.';\n",
              "          element.innerHTML = '';\n",
              "          dataTable['output_type'] = 'display_data';\n",
              "          await google.colab.output.renderOutput(dataTable, element);\n",
              "          const docLink = document.createElement('div');\n",
              "          docLink.innerHTML = docLinkHtml;\n",
              "          element.appendChild(docLink);\n",
              "        }\n",
              "      </script>\n",
              "    </div>\n",
              "  </div>\n",
              "  "
            ]
          },
          "metadata": {},
          "execution_count": 15
        }
      ],
      "source": [
        "# Lets check the Team who lost the Match by 146 Runs\n",
        "\n",
        "matches[matches['win_by_runs'] == 146][['Season',\n",
        "                                        'team1',\n",
        "                                        'team2',\n",
        "                                        'winner',\n",
        "                                        'player_of_match']].reset_index(drop = True)"
      ]
    },
    {
      "cell_type": "code",
      "execution_count": null,
      "metadata": {
        "colab": {
          "base_uri": "https://localhost:8080/",
          "height": 394
        },
        "id": "Bx6k08xj9ehn",
        "outputId": "bea17d6a-4f7c-49aa-bfba-9351bea9350c"
      },
      "outputs": [
        {
          "output_type": "execute_result",
          "data": {
            "text/plain": [
              "      Season             team1                        team2  \\\n",
              "0   IPL-2017     Gujarat Lions        Kolkata Knight Riders   \n",
              "1   IPL-2017  Delhi Daredevils              Kings XI Punjab   \n",
              "2   IPL-2008    Mumbai Indians              Deccan Chargers   \n",
              "3   IPL-2009   Kings XI Punjab             Delhi Daredevils   \n",
              "4   IPL-2010  Rajasthan Royals  Royal Challengers Bangalore   \n",
              "5   IPL-2011    Mumbai Indians             Rajasthan Royals   \n",
              "6   IPL-2012  Rajasthan Royals               Mumbai Indians   \n",
              "7   IPL-2013   Kings XI Punjab          Chennai Super Kings   \n",
              "8   IPL-2015  Delhi Daredevils  Royal Challengers Bangalore   \n",
              "9   IPL-2016     Gujarat Lions          Sunrisers Hyderabad   \n",
              "10  IPL-2018   Kings XI Punjab  Royal Challengers Bangalore   \n",
              "\n",
              "                         winner player_of_match  \n",
              "0         Kolkata Knight Riders         CA Lynn  \n",
              "1               Kings XI Punjab  Sandeep Sharma  \n",
              "2               Deccan Chargers    AC Gilchrist  \n",
              "3              Delhi Daredevils      DL Vettori  \n",
              "4   Royal Challengers Bangalore       JH Kallis  \n",
              "5              Rajasthan Royals       SR Watson  \n",
              "6                Mumbai Indians        DR Smith  \n",
              "7           Chennai Super Kings      MEK Hussey  \n",
              "8   Royal Challengers Bangalore        VR Aaron  \n",
              "9           Sunrisers Hyderabad         B Kumar  \n",
              "10  Royal Challengers Bangalore        UT Yadav  "
            ],
            "text/html": [
              "\n",
              "  <div id=\"df-71faa87a-be37-47b8-9df7-d58aadc43a68\">\n",
              "    <div class=\"colab-df-container\">\n",
              "      <div>\n",
              "<style scoped>\n",
              "    .dataframe tbody tr th:only-of-type {\n",
              "        vertical-align: middle;\n",
              "    }\n",
              "\n",
              "    .dataframe tbody tr th {\n",
              "        vertical-align: top;\n",
              "    }\n",
              "\n",
              "    .dataframe thead th {\n",
              "        text-align: right;\n",
              "    }\n",
              "</style>\n",
              "<table border=\"1\" class=\"dataframe\">\n",
              "  <thead>\n",
              "    <tr style=\"text-align: right;\">\n",
              "      <th></th>\n",
              "      <th>Season</th>\n",
              "      <th>team1</th>\n",
              "      <th>team2</th>\n",
              "      <th>winner</th>\n",
              "      <th>player_of_match</th>\n",
              "    </tr>\n",
              "  </thead>\n",
              "  <tbody>\n",
              "    <tr>\n",
              "      <th>0</th>\n",
              "      <td>IPL-2017</td>\n",
              "      <td>Gujarat Lions</td>\n",
              "      <td>Kolkata Knight Riders</td>\n",
              "      <td>Kolkata Knight Riders</td>\n",
              "      <td>CA Lynn</td>\n",
              "    </tr>\n",
              "    <tr>\n",
              "      <th>1</th>\n",
              "      <td>IPL-2017</td>\n",
              "      <td>Delhi Daredevils</td>\n",
              "      <td>Kings XI Punjab</td>\n",
              "      <td>Kings XI Punjab</td>\n",
              "      <td>Sandeep Sharma</td>\n",
              "    </tr>\n",
              "    <tr>\n",
              "      <th>2</th>\n",
              "      <td>IPL-2008</td>\n",
              "      <td>Mumbai Indians</td>\n",
              "      <td>Deccan Chargers</td>\n",
              "      <td>Deccan Chargers</td>\n",
              "      <td>AC Gilchrist</td>\n",
              "    </tr>\n",
              "    <tr>\n",
              "      <th>3</th>\n",
              "      <td>IPL-2009</td>\n",
              "      <td>Kings XI Punjab</td>\n",
              "      <td>Delhi Daredevils</td>\n",
              "      <td>Delhi Daredevils</td>\n",
              "      <td>DL Vettori</td>\n",
              "    </tr>\n",
              "    <tr>\n",
              "      <th>4</th>\n",
              "      <td>IPL-2010</td>\n",
              "      <td>Rajasthan Royals</td>\n",
              "      <td>Royal Challengers Bangalore</td>\n",
              "      <td>Royal Challengers Bangalore</td>\n",
              "      <td>JH Kallis</td>\n",
              "    </tr>\n",
              "    <tr>\n",
              "      <th>5</th>\n",
              "      <td>IPL-2011</td>\n",
              "      <td>Mumbai Indians</td>\n",
              "      <td>Rajasthan Royals</td>\n",
              "      <td>Rajasthan Royals</td>\n",
              "      <td>SR Watson</td>\n",
              "    </tr>\n",
              "    <tr>\n",
              "      <th>6</th>\n",
              "      <td>IPL-2012</td>\n",
              "      <td>Rajasthan Royals</td>\n",
              "      <td>Mumbai Indians</td>\n",
              "      <td>Mumbai Indians</td>\n",
              "      <td>DR Smith</td>\n",
              "    </tr>\n",
              "    <tr>\n",
              "      <th>7</th>\n",
              "      <td>IPL-2013</td>\n",
              "      <td>Kings XI Punjab</td>\n",
              "      <td>Chennai Super Kings</td>\n",
              "      <td>Chennai Super Kings</td>\n",
              "      <td>MEK Hussey</td>\n",
              "    </tr>\n",
              "    <tr>\n",
              "      <th>8</th>\n",
              "      <td>IPL-2015</td>\n",
              "      <td>Delhi Daredevils</td>\n",
              "      <td>Royal Challengers Bangalore</td>\n",
              "      <td>Royal Challengers Bangalore</td>\n",
              "      <td>VR Aaron</td>\n",
              "    </tr>\n",
              "    <tr>\n",
              "      <th>9</th>\n",
              "      <td>IPL-2016</td>\n",
              "      <td>Gujarat Lions</td>\n",
              "      <td>Sunrisers Hyderabad</td>\n",
              "      <td>Sunrisers Hyderabad</td>\n",
              "      <td>B Kumar</td>\n",
              "    </tr>\n",
              "    <tr>\n",
              "      <th>10</th>\n",
              "      <td>IPL-2018</td>\n",
              "      <td>Kings XI Punjab</td>\n",
              "      <td>Royal Challengers Bangalore</td>\n",
              "      <td>Royal Challengers Bangalore</td>\n",
              "      <td>UT Yadav</td>\n",
              "    </tr>\n",
              "  </tbody>\n",
              "</table>\n",
              "</div>\n",
              "      <button class=\"colab-df-convert\" onclick=\"convertToInteractive('df-71faa87a-be37-47b8-9df7-d58aadc43a68')\"\n",
              "              title=\"Convert this dataframe to an interactive table.\"\n",
              "              style=\"display:none;\">\n",
              "        \n",
              "  <svg xmlns=\"http://www.w3.org/2000/svg\" height=\"24px\"viewBox=\"0 0 24 24\"\n",
              "       width=\"24px\">\n",
              "    <path d=\"M0 0h24v24H0V0z\" fill=\"none\"/>\n",
              "    <path d=\"M18.56 5.44l.94 2.06.94-2.06 2.06-.94-2.06-.94-.94-2.06-.94 2.06-2.06.94zm-11 1L8.5 8.5l.94-2.06 2.06-.94-2.06-.94L8.5 2.5l-.94 2.06-2.06.94zm10 10l.94 2.06.94-2.06 2.06-.94-2.06-.94-.94-2.06-.94 2.06-2.06.94z\"/><path d=\"M17.41 7.96l-1.37-1.37c-.4-.4-.92-.59-1.43-.59-.52 0-1.04.2-1.43.59L10.3 9.45l-7.72 7.72c-.78.78-.78 2.05 0 2.83L4 21.41c.39.39.9.59 1.41.59.51 0 1.02-.2 1.41-.59l7.78-7.78 2.81-2.81c.8-.78.8-2.07 0-2.86zM5.41 20L4 18.59l7.72-7.72 1.47 1.35L5.41 20z\"/>\n",
              "  </svg>\n",
              "      </button>\n",
              "      \n",
              "  <style>\n",
              "    .colab-df-container {\n",
              "      display:flex;\n",
              "      flex-wrap:wrap;\n",
              "      gap: 12px;\n",
              "    }\n",
              "\n",
              "    .colab-df-convert {\n",
              "      background-color: #E8F0FE;\n",
              "      border: none;\n",
              "      border-radius: 50%;\n",
              "      cursor: pointer;\n",
              "      display: none;\n",
              "      fill: #1967D2;\n",
              "      height: 32px;\n",
              "      padding: 0 0 0 0;\n",
              "      width: 32px;\n",
              "    }\n",
              "\n",
              "    .colab-df-convert:hover {\n",
              "      background-color: #E2EBFA;\n",
              "      box-shadow: 0px 1px 2px rgba(60, 64, 67, 0.3), 0px 1px 3px 1px rgba(60, 64, 67, 0.15);\n",
              "      fill: #174EA6;\n",
              "    }\n",
              "\n",
              "    [theme=dark] .colab-df-convert {\n",
              "      background-color: #3B4455;\n",
              "      fill: #D2E3FC;\n",
              "    }\n",
              "\n",
              "    [theme=dark] .colab-df-convert:hover {\n",
              "      background-color: #434B5C;\n",
              "      box-shadow: 0px 1px 3px 1px rgba(0, 0, 0, 0.15);\n",
              "      filter: drop-shadow(0px 1px 2px rgba(0, 0, 0, 0.3));\n",
              "      fill: #FFFFFF;\n",
              "    }\n",
              "  </style>\n",
              "\n",
              "      <script>\n",
              "        const buttonEl =\n",
              "          document.querySelector('#df-71faa87a-be37-47b8-9df7-d58aadc43a68 button.colab-df-convert');\n",
              "        buttonEl.style.display =\n",
              "          google.colab.kernel.accessAllowed ? 'block' : 'none';\n",
              "\n",
              "        async function convertToInteractive(key) {\n",
              "          const element = document.querySelector('#df-71faa87a-be37-47b8-9df7-d58aadc43a68');\n",
              "          const dataTable =\n",
              "            await google.colab.kernel.invokeFunction('convertToInteractive',\n",
              "                                                     [key], {});\n",
              "          if (!dataTable) return;\n",
              "\n",
              "          const docLinkHtml = 'Like what you see? Visit the ' +\n",
              "            '<a target=\"_blank\" href=https://colab.research.google.com/notebooks/data_table.ipynb>data table notebook</a>'\n",
              "            + ' to learn more about interactive tables.';\n",
              "          element.innerHTML = '';\n",
              "          dataTable['output_type'] = 'display_data';\n",
              "          await google.colab.output.renderOutput(dataTable, element);\n",
              "          const docLink = document.createElement('div');\n",
              "          docLink.innerHTML = docLinkHtml;\n",
              "          element.appendChild(docLink);\n",
              "        }\n",
              "      </script>\n",
              "    </div>\n",
              "  </div>\n",
              "  "
            ]
          },
          "metadata": {},
          "execution_count": 16
        }
      ],
      "source": [
        "# Lets check the Team who lost the Match by all the 10 wickets\n",
        "\n",
        "matches[matches['win_by_wickets'] == 10][['Season',\n",
        "                                        'team1',\n",
        "                                        'team2',\n",
        "                                        'winner',\n",
        "                                        'player_of_match']].reset_index(drop = True)\n"
      ]
    },
    {
      "cell_type": "code",
      "execution_count": null,
      "metadata": {
        "colab": {
          "base_uri": "https://localhost:8080/",
          "height": 330
        },
        "id": "mzIObiBdlnJi",
        "outputId": "02c7d343-bb95-4449-a615-697be338b331"
      },
      "outputs": [
        {
          "output_type": "stream",
          "name": "stderr",
          "text": [
            "<ipython-input-17-8ed7dcbcc010>:8: FutureWarning: The frame.append method is deprecated and will be removed from pandas in a future version. Use pandas.concat instead.\n",
            "  data = MumbaiIndians.append(ChennaiSuperKings)\n",
            "<ipython-input-17-8ed7dcbcc010>:9: FutureWarning: The frame.append method is deprecated and will be removed from pandas in a future version. Use pandas.concat instead.\n",
            "  data = data.append(royalchallengers)\n",
            "<ipython-input-17-8ed7dcbcc010>:12: FutureWarning: ['Season', 'player_of_match'] did not aggregate successfully. If any error is raised this will raise in a future version of pandas. Drop these columns/ops to avoid this warning.\n",
            "  data[['Season',\n"
          ]
        },
        {
          "output_type": "execute_result",
          "data": {
            "text/plain": [
              "<pandas.io.formats.style.Styler at 0x7fda868bc0d0>"
            ],
            "text/html": [
              "<style type=\"text/css\">\n",
              "#T_700ef_row0_col0, #T_700ef_row0_col1, #T_700ef_row0_col2, #T_700ef_row0_col4, #T_700ef_row1_col0, #T_700ef_row1_col1, #T_700ef_row1_col4, #T_700ef_row2_col0, #T_700ef_row2_col3, #T_700ef_row2_col4, #T_700ef_row2_col5, #T_700ef_row2_col6, #T_700ef_row2_col7 {\n",
              "  background-color: #000004;\n",
              "  color: #f1f1f1;\n",
              "}\n",
              "#T_700ef_row0_col3 {\n",
              "  background-color: #f2741c;\n",
              "  color: #f1f1f1;\n",
              "}\n",
              "#T_700ef_row0_col5, #T_700ef_row0_col6, #T_700ef_row1_col2, #T_700ef_row1_col3, #T_700ef_row1_col6, #T_700ef_row1_col7, #T_700ef_row2_col1 {\n",
              "  background-color: #fcffa4;\n",
              "  color: #000000;\n",
              "}\n",
              "#T_700ef_row0_col7 {\n",
              "  background-color: #f4dd4f;\n",
              "  color: #000000;\n",
              "}\n",
              "#T_700ef_row1_col5 {\n",
              "  background-color: #f1ef75;\n",
              "  color: #000000;\n",
              "}\n",
              "#T_700ef_row2_col2 {\n",
              "  background-color: #f2f27d;\n",
              "  color: #000000;\n",
              "}\n",
              "</style>\n",
              "<table id=\"T_700ef\" class=\"dataframe\">\n",
              "  <thead>\n",
              "    <tr>\n",
              "      <th class=\"blank level0\" >&nbsp;</th>\n",
              "      <th id=\"T_700ef_level0_col0\" class=\"col_heading level0 col0\" colspan=\"4\">win_by_runs</th>\n",
              "      <th id=\"T_700ef_level0_col4\" class=\"col_heading level0 col4\" colspan=\"4\">win_by_wickets</th>\n",
              "    </tr>\n",
              "    <tr>\n",
              "      <th class=\"blank level1\" >&nbsp;</th>\n",
              "      <th id=\"T_700ef_level1_col0\" class=\"col_heading level1 col0\" >min</th>\n",
              "      <th id=\"T_700ef_level1_col1\" class=\"col_heading level1 col1\" >mean</th>\n",
              "      <th id=\"T_700ef_level1_col2\" class=\"col_heading level1 col2\" >max</th>\n",
              "      <th id=\"T_700ef_level1_col3\" class=\"col_heading level1 col3\" >sum</th>\n",
              "      <th id=\"T_700ef_level1_col4\" class=\"col_heading level1 col4\" >min</th>\n",
              "      <th id=\"T_700ef_level1_col5\" class=\"col_heading level1 col5\" >mean</th>\n",
              "      <th id=\"T_700ef_level1_col6\" class=\"col_heading level1 col6\" >max</th>\n",
              "      <th id=\"T_700ef_level1_col7\" class=\"col_heading level1 col7\" >sum</th>\n",
              "    </tr>\n",
              "    <tr>\n",
              "      <th class=\"index_name level0\" >winner</th>\n",
              "      <th class=\"blank col0\" >&nbsp;</th>\n",
              "      <th class=\"blank col1\" >&nbsp;</th>\n",
              "      <th class=\"blank col2\" >&nbsp;</th>\n",
              "      <th class=\"blank col3\" >&nbsp;</th>\n",
              "      <th class=\"blank col4\" >&nbsp;</th>\n",
              "      <th class=\"blank col5\" >&nbsp;</th>\n",
              "      <th class=\"blank col6\" >&nbsp;</th>\n",
              "      <th class=\"blank col7\" >&nbsp;</th>\n",
              "    </tr>\n",
              "  </thead>\n",
              "  <tbody>\n",
              "    <tr>\n",
              "      <th id=\"T_700ef_level0_row0\" class=\"row_heading level0 row0\" >Chennai Super Kings</th>\n",
              "      <td id=\"T_700ef_row0_col0\" class=\"data row0 col0\" >0</td>\n",
              "      <td id=\"T_700ef_row0_col1\" class=\"data row0 col1\" >15.966667</td>\n",
              "      <td id=\"T_700ef_row0_col2\" class=\"data row0 col2\" >97</td>\n",
              "      <td id=\"T_700ef_row0_col3\" class=\"data row0 col3\" >1916</td>\n",
              "      <td id=\"T_700ef_row0_col4\" class=\"data row0 col4\" >0</td>\n",
              "      <td id=\"T_700ef_row0_col5\" class=\"data row0 col5\" >3.083333</td>\n",
              "      <td id=\"T_700ef_row0_col6\" class=\"data row0 col6\" >10</td>\n",
              "      <td id=\"T_700ef_row0_col7\" class=\"data row0 col7\" >370</td>\n",
              "    </tr>\n",
              "    <tr>\n",
              "      <th id=\"T_700ef_level0_row1\" class=\"row_heading level0 row1\" >Mumbai Indians</th>\n",
              "      <td id=\"T_700ef_row1_col0\" class=\"data row1 col0\" >0</td>\n",
              "      <td id=\"T_700ef_row1_col1\" class=\"data row1 col1\" >15.932836</td>\n",
              "      <td id=\"T_700ef_row1_col2\" class=\"data row1 col2\" >146</td>\n",
              "      <td id=\"T_700ef_row1_col3\" class=\"data row1 col3\" >2135</td>\n",
              "      <td id=\"T_700ef_row1_col4\" class=\"data row1 col4\" >0</td>\n",
              "      <td id=\"T_700ef_row1_col5\" class=\"data row1 col5\" >2.985075</td>\n",
              "      <td id=\"T_700ef_row1_col6\" class=\"data row1 col6\" >10</td>\n",
              "      <td id=\"T_700ef_row1_col7\" class=\"data row1 col7\" >400</td>\n",
              "    </tr>\n",
              "    <tr>\n",
              "      <th id=\"T_700ef_level0_row2\" class=\"row_heading level0 row2\" >Royal Challengers Bangalore</th>\n",
              "      <td id=\"T_700ef_row2_col0\" class=\"data row2 col0\" >0</td>\n",
              "      <td id=\"T_700ef_row2_col1\" class=\"data row2 col1\" >27.403846</td>\n",
              "      <td id=\"T_700ef_row2_col2\" class=\"data row2 col2\" >144</td>\n",
              "      <td id=\"T_700ef_row2_col3\" class=\"data row2 col3\" >1425</td>\n",
              "      <td id=\"T_700ef_row2_col4\" class=\"data row2 col4\" >0</td>\n",
              "      <td id=\"T_700ef_row2_col5\" class=\"data row2 col5\" >1.115385</td>\n",
              "      <td id=\"T_700ef_row2_col6\" class=\"data row2 col6\" >9</td>\n",
              "      <td id=\"T_700ef_row2_col7\" class=\"data row2 col7\" >58</td>\n",
              "    </tr>\n",
              "  </tbody>\n",
              "</table>\n"
            ]
          },
          "metadata": {},
          "execution_count": 17
        }
      ],
      "source": [
        "## Lets compare M<umbai Indians and Chennai Super kings\n",
        "\n",
        "\n",
        "MumbaiIndians = matches[(matches['team1']== 'Mumbai Indians') | (matches['team2'] == 'Mumbai Indians')]\n",
        "ChennaiSuperKings = matches[(matches['team1']== 'Chennai Super Kings') | (matches['team2'] == 'Chennai Super Kings')]\n",
        "royalchallengers = matches[(matches['team1']== 'Royal Challengers Bangalore') | (matches['team2'] == 'Royal Challengers Bangalores')]\n",
        "\n",
        "data = MumbaiIndians.append(ChennaiSuperKings)\n",
        "data = data.append(royalchallengers)\n",
        "data = data[(data['winner'] == 'Mumbai Indians') | (data['winner'] == 'Chennai Super Kings') | \n",
        "            (data['winner'] == 'Royal Challengers Bangalore')]\n",
        "data[['Season',\n",
        "      'winner',\n",
        "      'win_by_runs',\n",
        "      'win_by_wickets',\n",
        "      'player_of_match']].groupby(['winner']).agg(['min',\n",
        "                                                   'mean',\n",
        "                                                   'max',\n",
        "                                                   'sum']).style.background_gradient(cmap = 'inferno')\n"
      ]
    },
    {
      "cell_type": "markdown",
      "metadata": {
        "id": "7W3DNaPqykUX"
      },
      "source": [
        "**Understanding the Matches Results**"
      ]
    },
    {
      "cell_type": "code",
      "execution_count": null,
      "metadata": {
        "colab": {
          "base_uri": "https://localhost:8080/"
        },
        "id": "0QEZVQeXpzEg",
        "outputId": "f8fc3c46-82d3-438a-a790-84187b92616c"
      },
      "outputs": [
        {
          "output_type": "execute_result",
          "data": {
            "text/plain": [
              "normal       743\n",
              "tie            9\n",
              "no result      4\n",
              "Name: result, dtype: int64"
            ]
          },
          "metadata": {},
          "execution_count": 18
        }
      ],
      "source": [
        " #let the types of matches results\n",
        "\n",
        " matches['result'].value_counts()"
      ]
    },
    {
      "cell_type": "code",
      "execution_count": null,
      "metadata": {
        "colab": {
          "base_uri": "https://localhost:8080/"
        },
        "id": "v-UPKxDSzHXQ",
        "outputId": "66a3e0dc-d53f-4122-c657-a13b2a120f68"
      },
      "outputs": [
        {
          "output_type": "stream",
          "name": "stdout",
          "text": [
            "percentage of matches where result is 'normal':  98.0\n",
            "percentage of matches where result is 'tie':  1.0\n",
            "percentage of matches where result is 'no result':  1.0\n"
          ]
        }
      ],
      "source": [
        "# lets check the Probabilty of matches where we can see normal, tie or no result scenarios\n",
        "\n",
        "normal = matches[matches['result'] == 'normal']\n",
        "tie = matches[matches['result'] == 'tie']\n",
        "no_result = matches[matches['result'] == 'no result']\n",
        "\n",
        "print(\"percentage of matches where result is 'normal': \",round(normal.shape[0]/matches.shape[0],2) *100)\n",
        "print(\"percentage of matches where result is 'tie': \",round(tie.shape[0]/matches.shape[0],2) *100)\n",
        "print(\"percentage of matches where result is 'no result': \",round(no_result.shape[0]/matches.shape[0],2) *100)"
      ]
    },
    {
      "cell_type": "code",
      "execution_count": null,
      "metadata": {
        "colab": {
          "base_uri": "https://localhost:8080/"
        },
        "id": "xFnpPoLZzaNx",
        "outputId": "ae769217-aa63-4867-e043-51f53e6b9a23"
      },
      "outputs": [
        {
          "output_type": "stream",
          "name": "stdout",
          "text": [
            "Teams where tie Happened\n",
            "         date                        team1                        team2\n",
            "0  29-04-2017                Gujarat Lions               Mumbai Indians\n",
            "1  23-04-2009             Rajasthan Royals        Kolkata Knight Riders\n",
            "2  21-03-2010              Kings XI Punjab          Chennai Super Kings\n",
            "3  07-04-2013  Royal Challengers Bangalore          Sunrisers Hyderabad\n",
            "4  16-04-2013             Delhi Daredevils  Royal Challengers Bangalore\n",
            "5  29-04-2014             Rajasthan Royals        Kolkata Knight Riders\n",
            "6  21-04-2015             Rajasthan Royals              Kings XI Punjab\n",
            "7  30-03-2019        Kolkata Knight Riders               Delhi Capitals\n",
            "8  02-05-2019               Mumbai Indians          Sunrisers Hyderabad\n",
            "\n",
            "\n",
            "Teams where there was no result\n",
            "         date                        team1                        team2\n",
            "0  21-05-2011             Delhi Daredevils                Pune Warriors\n",
            "1  29-04-2015  Royal Challengers Bangalore             Rajasthan Royals\n",
            "2  17-05-2015             Delhi Daredevils  Royal Challengers Bangalore\n",
            "3  30-04-2019  Royal Challengers Bangalore             Rajasthan Royals\n"
          ]
        }
      ],
      "source": [
        "# as we can see that there are only few matches where tie and no result, so lets check them\n",
        "\n",
        "print(\"Teams where tie Happened\")\n",
        "print(matches[matches['result'] == 'tie'][['date','team1','team2']].reset_index(drop = True))\n",
        "print(\"\\n\")\n",
        "print(\"Teams where there was no result\")\n",
        "print(matches[matches['result'] == 'no result'][['date','team1','team2']].reset_index(drop = True))"
      ]
    },
    {
      "cell_type": "markdown",
      "metadata": {
        "id": "8L-SnRCiKd93"
      },
      "source": [
        "**Uncovering the most poplar IPL Seasons and Teams**"
      ]
    },
    {
      "cell_type": "code",
      "execution_count": null,
      "metadata": {
        "colab": {
          "base_uri": "https://localhost:8080/",
          "height": 439
        },
        "id": "BvsXKmEJ3NDH",
        "outputId": "309a32de-0a7e-4175-e81c-b32aadb59d31"
      },
      "outputs": [
        {
          "output_type": "display_data",
          "data": {
            "text/plain": [
              "<Figure size 1200x400 with 1 Axes>"
            ],
            "image/png": "[encoded data removed]"
          },
          "metadata": {}
        }
      ],
      "source": [
        "# Lets check the number of IPL seasons\n",
        "\n",
        "plt.rcParams['figure.figsize'] = (12,4)\n",
        "sns.countplot(y = matches['Season'].sort_values(),palette = 'copper')\n",
        "plt.title('IPL season with occurences \\n', fontsize = 20)\n",
        "plt.xlabel('')\n",
        "plt.show()"
      ]
    },
    {
      "cell_type": "code",
      "execution_count": null,
      "metadata": {
        "colab": {
          "base_uri": "https://localhost:8080/",
          "height": 555
        },
        "id": "PL5ZIU5VLiMM",
        "outputId": "91fec893-0f33-40b1-c452-2cfbe11f3070"
      },
      "outputs": [
        {
          "output_type": "stream",
          "name": "stderr",
          "text": [
            "<ipython-input-22-ea9802a1a371>:2: FutureWarning: The series.append method is deprecated and will be removed from pandas in a future version. Use pandas.concat instead.\n",
            "  team = matches['team1'].append(matches['team2'])\n"
          ]
        },
        {
          "output_type": "execute_result",
          "data": {
            "text/plain": [
              "<function matplotlib.pyplot.show(close=None, block=None)>"
            ]
          },
          "metadata": {},
          "execution_count": 22
        },
        {
          "output_type": "display_data",
          "data": {
            "text/plain": [
              "<Figure size 1500x600 with 1 Axes>"
            ],
            "image/png": "[encoded data removed]"
          },
          "metadata": {}
        }
      ],
      "source": [
        "# lets check the teams\n",
        "team = matches['team1'].append(matches['team2'])\n",
        "\n",
        "plt.rcParams['figure.figsize']= (15,6)\n",
        "sns.countplot(y = team,palette = 'Wistia')\n",
        "plt.title('Teams who played Highest Number of Matches \\n', fontsize = 20)\n",
        "plt.ylabel('')\n",
        "plt.xlabel('\\n Number of Matches Played')\n",
        "plt.show"
      ]
    },
    {
      "cell_type": "markdown",
      "metadata": {
        "id": "XIV0AJcEN0JK"
      },
      "source": [
        "**Realizing the locations of all IPL Seasons**"
      ]
    },
    {
      "cell_type": "code",
      "execution_count": null,
      "metadata": {
        "colab": {
          "base_uri": "https://localhost:8080/",
          "height": 438
        },
        "id": "mADKnU4oNDON",
        "outputId": "700cf2c7-9cc0-4744-817c-5784d6457f47"
      },
      "outputs": [
        {
          "output_type": "display_data",
          "data": {
            "text/plain": [
              "<Figure size 1500x600 with 1 Axes>"
            ],
            "image/png": "[encoded data removed]"
          },
          "metadata": {}
        }
      ],
      "source": [
        "## let explore the Vennues used for the IPL Matches the Most\n",
        "\n",
        "plt.rcParams['figure.figsize'] = (15,6)\n",
        "sns.barplot(y = matches['venue'].value_counts().head(15).index,\n",
        "            x = matches['venue'].value_counts().head(15).values,\n",
        "            palette = 'cool')\n",
        "plt.title('Most Popular Venues for IPL Matches \\n', fontsize = 25)\n",
        "plt.xlabel('\\n Number of Matches played',fontsize = 20)\n",
        "plt.show()"
      ]
    },
    {
      "cell_type": "code",
      "execution_count": null,
      "metadata": {
        "colab": {
          "base_uri": "https://localhost:8080/",
          "height": 363
        },
        "id": "08VW3L58OUQM",
        "outputId": "9e1a090b-56ee-4cb5-dd70-1a1bec7db8e1"
      },
      "outputs": [
        {
          "output_type": "execute_result",
          "data": {
            "text/plain": [
              "     Season        city  count\n",
              "5  IPL-2017      Kanpur      2\n",
              "4  IPL-2017      Indore      3\n",
              "1  IPL-2017  Chandigarh      4\n",
              "9  IPL-2017      Rajkot      5\n",
              "2  IPL-2017       Delhi      7\n",
              "6  IPL-2017     Kolkata      7\n",
              "8  IPL-2017        Pune      7\n",
              "0  IPL-2017   Bengaluru      8\n",
              "3  IPL-2017   Hyderabad      8\n",
              "7  IPL-2017      Mumbai      8"
            ],
            "text/html": [
              "\n",
              "  <div id=\"df-9c006bf3-5568-4212-b316-d58fa373b5d3\">\n",
              "    <div class=\"colab-df-container\">\n",
              "      <div>\n",
              "<style scoped>\n",
              "    .dataframe tbody tr th:only-of-type {\n",
              "        vertical-align: middle;\n",
              "    }\n",
              "\n",
              "    .dataframe tbody tr th {\n",
              "        vertical-align: top;\n",
              "    }\n",
              "\n",
              "    .dataframe thead th {\n",
              "        text-align: right;\n",
              "    }\n",
              "</style>\n",
              "<table border=\"1\" class=\"dataframe\">\n",
              "  <thead>\n",
              "    <tr style=\"text-align: right;\">\n",
              "      <th></th>\n",
              "      <th>Season</th>\n",
              "      <th>city</th>\n",
              "      <th>count</th>\n",
              "    </tr>\n",
              "  </thead>\n",
              "  <tbody>\n",
              "    <tr>\n",
              "      <th>5</th>\n",
              "      <td>IPL-2017</td>\n",
              "      <td>Kanpur</td>\n",
              "      <td>2</td>\n",
              "    </tr>\n",
              "    <tr>\n",
              "      <th>4</th>\n",
              "      <td>IPL-2017</td>\n",
              "      <td>Indore</td>\n",
              "      <td>3</td>\n",
              "    </tr>\n",
              "    <tr>\n",
              "      <th>1</th>\n",
              "      <td>IPL-2017</td>\n",
              "      <td>Chandigarh</td>\n",
              "      <td>4</td>\n",
              "    </tr>\n",
              "    <tr>\n",
              "      <th>9</th>\n",
              "      <td>IPL-2017</td>\n",
              "      <td>Rajkot</td>\n",
              "      <td>5</td>\n",
              "    </tr>\n",
              "    <tr>\n",
              "      <th>2</th>\n",
              "      <td>IPL-2017</td>\n",
              "      <td>Delhi</td>\n",
              "      <td>7</td>\n",
              "    </tr>\n",
              "    <tr>\n",
              "      <th>6</th>\n",
              "      <td>IPL-2017</td>\n",
              "      <td>Kolkata</td>\n",
              "      <td>7</td>\n",
              "    </tr>\n",
              "    <tr>\n",
              "      <th>8</th>\n",
              "      <td>IPL-2017</td>\n",
              "      <td>Pune</td>\n",
              "      <td>7</td>\n",
              "    </tr>\n",
              "    <tr>\n",
              "      <th>0</th>\n",
              "      <td>IPL-2017</td>\n",
              "      <td>Bengaluru</td>\n",
              "      <td>8</td>\n",
              "    </tr>\n",
              "    <tr>\n",
              "      <th>3</th>\n",
              "      <td>IPL-2017</td>\n",
              "      <td>Hyderabad</td>\n",
              "      <td>8</td>\n",
              "    </tr>\n",
              "    <tr>\n",
              "      <th>7</th>\n",
              "      <td>IPL-2017</td>\n",
              "      <td>Mumbai</td>\n",
              "      <td>8</td>\n",
              "    </tr>\n",
              "  </tbody>\n",
              "</table>\n",
              "</div>\n",
              "      <button class=\"colab-df-convert\" onclick=\"convertToInteractive('df-9c006bf3-5568-4212-b316-d58fa373b5d3')\"\n",
              "              title=\"Convert this dataframe to an interactive table.\"\n",
              "              style=\"display:none;\">\n",
              "        \n",
              "  <svg xmlns=\"http://www.w3.org/2000/svg\" height=\"24px\"viewBox=\"0 0 24 24\"\n",
              "       width=\"24px\">\n",
              "    <path d=\"M0 0h24v24H0V0z\" fill=\"none\"/>\n",
              "    <path d=\"M18.56 5.44l.94 2.06.94-2.06 2.06-.94-2.06-.94-.94-2.06-.94 2.06-2.06.94zm-11 1L8.5 8.5l.94-2.06 2.06-.94-2.06-.94L8.5 2.5l-.94 2.06-2.06.94zm10 10l.94 2.06.94-2.06 2.06-.94-2.06-.94-.94-2.06-.94 2.06-2.06.94z\"/><path d=\"M17.41 7.96l-1.37-1.37c-.4-.4-.92-.59-1.43-.59-.52 0-1.04.2-1.43.59L10.3 9.45l-7.72 7.72c-.78.78-.78 2.05 0 2.83L4 21.41c.39.39.9.59 1.41.59.51 0 1.02-.2 1.41-.59l7.78-7.78 2.81-2.81c.8-.78.8-2.07 0-2.86zM5.41 20L4 18.59l7.72-7.72 1.47 1.35L5.41 20z\"/>\n",
              "  </svg>\n",
              "      </button>\n",
              "      \n",
              "  <style>\n",
              "    .colab-df-container {\n",
              "      display:flex;\n",
              "      flex-wrap:wrap;\n",
              "      gap: 12px;\n",
              "    }\n",
              "\n",
              "    .colab-df-convert {\n",
              "      background-color: #E8F0FE;\n",
              "      border: none;\n",
              "      border-radius: 50%;\n",
              "      cursor: pointer;\n",
              "      display: none;\n",
              "      fill: #1967D2;\n",
              "      height: 32px;\n",
              "      padding: 0 0 0 0;\n",
              "      width: 32px;\n",
              "    }\n",
              "\n",
              "    .colab-df-convert:hover {\n",
              "      background-color: #E2EBFA;\n",
              "      box-shadow: 0px 1px 2px rgba(60, 64, 67, 0.3), 0px 1px 3px 1px rgba(60, 64, 67, 0.15);\n",
              "      fill: #174EA6;\n",
              "    }\n",
              "\n",
              "    [theme=dark] .colab-df-convert {\n",
              "      background-color: #3B4455;\n",
              "      fill: #D2E3FC;\n",
              "    }\n",
              "\n",
              "    [theme=dark] .colab-df-convert:hover {\n",
              "      background-color: #434B5C;\n",
              "      box-shadow: 0px 1px 3px 1px rgba(0, 0, 0, 0.15);\n",
              "      filter: drop-shadow(0px 1px 2px rgba(0, 0, 0, 0.3));\n",
              "      fill: #FFFFFF;\n",
              "    }\n",
              "  </style>\n",
              "\n",
              "      <script>\n",
              "        const buttonEl =\n",
              "          document.querySelector('#df-9c006bf3-5568-4212-b316-d58fa373b5d3 button.colab-df-convert');\n",
              "        buttonEl.style.display =\n",
              "          google.colab.kernel.accessAllowed ? 'block' : 'none';\n",
              "\n",
              "        async function convertToInteractive(key) {\n",
              "          const element = document.querySelector('#df-9c006bf3-5568-4212-b316-d58fa373b5d3');\n",
              "          const dataTable =\n",
              "            await google.colab.kernel.invokeFunction('convertToInteractive',\n",
              "                                                     [key], {});\n",
              "          if (!dataTable) return;\n",
              "\n",
              "          const docLinkHtml = 'Like what you see? Visit the ' +\n",
              "            '<a target=\"_blank\" href=https://colab.research.google.com/notebooks/data_table.ipynb>data table notebook</a>'\n",
              "            + ' to learn more about interactive tables.';\n",
              "          element.innerHTML = '';\n",
              "          dataTable['output_type'] = 'display_data';\n",
              "          await google.colab.output.renderOutput(dataTable, element);\n",
              "          const docLink = document.createElement('div');\n",
              "          docLink.innerHTML = docLinkHtml;\n",
              "          element.appendChild(docLink);\n",
              "        }\n",
              "      </script>\n",
              "    </div>\n",
              "  </div>\n",
              "  "
            ]
          },
          "metadata": {},
          "execution_count": 24
        }
      ],
      "source": [
        "#lets check out in which cities the IPL Matches held out\n",
        "\n",
        "def city(season):\n",
        "    cities = matches.groupby(['Season','city'])['id'].agg('count').reset_index()\n",
        "    cities.rename(columns= {'id':'count'}, inplace = True)\n",
        "    return cities[cities['Season']==season].reset_index(drop=True).sort_values(by = 'count', ascending = True)\n",
        "\n",
        "#lets test it out with IPL 2019\n",
        "city('IPL-2017')"
      ]
    },
    {
      "cell_type": "code",
      "execution_count": null,
      "metadata": {
        "colab": {
          "base_uri": "https://localhost:8080/",
          "height": 457,
          "referenced_widgets": [
            "0719b071f027409bad4a55095b91830f",
            "c680dceca1b14d68879d450f9eef9e04",
            "967d0f939de24edba0f33bc2fb3bfe33",
            "3dbb5fc37c96452f8bd26637884c9efd",
            "7e557bffe7ce4652826185759a7e8081",
            "c6f6e200ebda43269c69584e30d879e3",
            "b52c34187ec74e1fa555828ca74507fc"
          ]
        },
        "id": "b7IjznimRkqC",
        "outputId": "e00143c9-989d-452b-e35e-91efbe3eac88"
      },
      "outputs": [
        {
          "output_type": "display_data",
          "data": {
            "text/plain": [
              "interactive(children=(Dropdown(description='season', options=('IPL-2013', 'IPL-2012', 'IPL-2011', 'IPL-2010', …"
            ],
            "application/vnd.jupyter.widget-view+json": {
              "version_major": 2,
              "version_minor": 0,
              "model_id": "0719b071f027409bad4a55095b91830f"
            }
          },
          "metadata": {}
        }
      ],
      "source": [
        "# we can convert above function into anInteractive function\n",
        "\n",
        "@interact\n",
        "def city(season = list(matches['Season'].value_counts().index)):\n",
        "    cities = matches.groupby(['Season','city'])['id'].agg('count').reset_index()\n",
        "    cities.rename(columns= {'id':'count'}, inplace = True)\n",
        "    return cities[cities['Season'] == season].reset_index(drop=True).sort_values(by = 'count',\n",
        "                                                    ascending = False).style.background_gradient(cmap = 'Greens')                            "
      ]
    },
    {
      "cell_type": "markdown",
      "metadata": {
        "id": "Qorg2oYJWrf0"
      },
      "source": [
        "**Comparing Toss Winners and Winners**"
      ]
    },
    {
      "cell_type": "code",
      "execution_count": null,
      "metadata": {
        "colab": {
          "base_uri": "https://localhost:8080/"
        },
        "id": "iyi7E5XATMxk",
        "outputId": "e02d7c38-6c9f-4b1b-add6-b94de1e8136d"
      },
      "outputs": [
        {
          "output_type": "execute_result",
          "data": {
            "text/plain": [
              "Mumbai Indians                 109\n",
              "Chennai Super Kings            100\n",
              "Kolkata Knight Riders           92\n",
              "Royal Challengers Bangalore     84\n",
              "Kings XI Punjab                 82\n",
              "Rajasthan Royals                75\n",
              "Delhi Daredevils                67\n",
              "Sunrisers Hyderabad             58\n",
              "Deccan Chargers                 29\n",
              "Gujarat Lions                   13\n",
              "Pune Warriors                   12\n",
              "Rising Pune Supergiant          10\n",
              "Delhi Capitals                  10\n",
              "Kochi Tuskers Kerala             6\n",
              "Rising Pune Supergiants          5\n",
              "Name: winner, dtype: int64"
            ]
          },
          "metadata": {},
          "execution_count": 26
        }
      ],
      "source": [
        "# Lets also check the total number of matches won by all the teams\n",
        "\n",
        "matches['winner'].value_counts()"
      ]
    },
    {
      "cell_type": "code",
      "execution_count": null,
      "metadata": {
        "colab": {
          "base_uri": "https://localhost:8080/"
        },
        "id": "TFz2Z6QyXKI-",
        "outputId": "a4484bed-b245-4ee1-a85f-f14298572034"
      },
      "outputs": [
        {
          "output_type": "stream",
          "name": "stdout",
          "text": [
            "Percentage of matches where toss winner is not same as winner:  48.02\n",
            "Percentage of matches where toss winner is same as winner:  52.0\n"
          ]
        }
      ],
      "source": [
        "# lets analyze what is the probability for a tean if they win the Toss\n",
        "\n",
        "not_same = matches[matches['toss_winner'] != matches['winner']]\n",
        "same = matches[matches['toss_winner'] == matches['winner']]\n",
        "\n",
        "print(\"Percentage of matches where toss winner is not same as winner: \",round(not_same.shape[0]/matches.shape[0],4)*100)\n",
        "print(\"Percentage of matches where toss winner is same as winner: \",round(same.shape[0]/matches.shape[0], 2)*100)"
      ]
    },
    {
      "cell_type": "code",
      "execution_count": null,
      "metadata": {
        "colab": {
          "base_uri": "https://localhost:8080/",
          "height": 551
        },
        "id": "kqRrrK3CZGOi",
        "outputId": "4daa75a9-1d7d-4b00-d7cf-1c187b30f8e5"
      },
      "outputs": [
        {
          "output_type": "execute_result",
          "data": {
            "text/plain": [
              "<pandas.io.formats.style.Styler at 0x7fda86572400>"
            ],
            "text/html": [
              "<style type=\"text/css\">\n",
              "#T_70cf6_row0_col0 {\n",
              "  background-color: #ffc77f;\n",
              "  color: #000000;\n",
              "}\n",
              "#T_70cf6_row1_col0 {\n",
              "  background-color: #332014;\n",
              "  color: #f1f1f1;\n",
              "}\n",
              "#T_70cf6_row2_col0, #T_70cf6_row3_col0 {\n",
              "  background-color: #281910;\n",
              "  color: #f1f1f1;\n",
              "}\n",
              "#T_70cf6_row4_col0, #T_70cf6_row5_col0, #T_70cf6_row6_col0 {\n",
              "  background-color: #21150d;\n",
              "  color: #f1f1f1;\n",
              "}\n",
              "#T_70cf6_row7_col0, #T_70cf6_row8_col0 {\n",
              "  background-color: #160e09;\n",
              "  color: #f1f1f1;\n",
              "}\n",
              "#T_70cf6_row9_col0 {\n",
              "  background-color: #100a06;\n",
              "  color: #f1f1f1;\n",
              "}\n",
              "#T_70cf6_row10_col0 {\n",
              "  background-color: #050302;\n",
              "  color: #f1f1f1;\n",
              "}\n",
              "#T_70cf6_row11_col0, #T_70cf6_row12_col0, #T_70cf6_row13_col0, #T_70cf6_row14_col0 {\n",
              "  background-color: #000000;\n",
              "  color: #f1f1f1;\n",
              "}\n",
              "</style>\n",
              "<table id=\"T_70cf6\" class=\"dataframe\">\n",
              "  <thead>\n",
              "    <tr>\n",
              "      <th class=\"index_name level0\" >winner</th>\n",
              "      <th id=\"T_70cf6_level0_col0\" class=\"col_heading level0 col0\" >Mumbai Indians</th>\n",
              "    </tr>\n",
              "    <tr>\n",
              "      <th class=\"index_name level0\" >toss_winner</th>\n",
              "      <th class=\"blank col0\" >&nbsp;</th>\n",
              "    </tr>\n",
              "  </thead>\n",
              "  <tbody>\n",
              "    <tr>\n",
              "      <th id=\"T_70cf6_level0_row0\" class=\"row_heading level0 row0\" >Mumbai Indians</th>\n",
              "      <td id=\"T_70cf6_row0_col0\" class=\"data row0 col0\" >56</td>\n",
              "    </tr>\n",
              "    <tr>\n",
              "      <th id=\"T_70cf6_level0_row1\" class=\"row_heading level0 row1\" >Delhi Daredevils</th>\n",
              "      <td id=\"T_70cf6_row1_col0\" class=\"data row1 col0\" >9</td>\n",
              "    </tr>\n",
              "    <tr>\n",
              "      <th id=\"T_70cf6_level0_row2\" class=\"row_heading level0 row2\" >Chennai Super Kings</th>\n",
              "      <td id=\"T_70cf6_row2_col0\" class=\"data row2 col0\" >7</td>\n",
              "    </tr>\n",
              "    <tr>\n",
              "      <th id=\"T_70cf6_level0_row3\" class=\"row_heading level0 row3\" >Kolkata Knight Riders</th>\n",
              "      <td id=\"T_70cf6_row3_col0\" class=\"data row3 col0\" >7</td>\n",
              "    </tr>\n",
              "    <tr>\n",
              "      <th id=\"T_70cf6_level0_row4\" class=\"row_heading level0 row4\" >Kings XI Punjab</th>\n",
              "      <td id=\"T_70cf6_row4_col0\" class=\"data row4 col0\" >6</td>\n",
              "    </tr>\n",
              "    <tr>\n",
              "      <th id=\"T_70cf6_level0_row5\" class=\"row_heading level0 row5\" >Rajasthan Royals</th>\n",
              "      <td id=\"T_70cf6_row5_col0\" class=\"data row5 col0\" >6</td>\n",
              "    </tr>\n",
              "    <tr>\n",
              "      <th id=\"T_70cf6_level0_row6\" class=\"row_heading level0 row6\" >Royal Challengers Bangalore</th>\n",
              "      <td id=\"T_70cf6_row6_col0\" class=\"data row6 col0\" >6</td>\n",
              "    </tr>\n",
              "    <tr>\n",
              "      <th id=\"T_70cf6_level0_row7\" class=\"row_heading level0 row7\" >Deccan Chargers</th>\n",
              "      <td id=\"T_70cf6_row7_col0\" class=\"data row7 col0\" >4</td>\n",
              "    </tr>\n",
              "    <tr>\n",
              "      <th id=\"T_70cf6_level0_row8\" class=\"row_heading level0 row8\" >Sunrisers Hyderabad</th>\n",
              "      <td id=\"T_70cf6_row8_col0\" class=\"data row8 col0\" >4</td>\n",
              "    </tr>\n",
              "    <tr>\n",
              "      <th id=\"T_70cf6_level0_row9\" class=\"row_heading level0 row9\" >Pune Warriors</th>\n",
              "      <td id=\"T_70cf6_row9_col0\" class=\"data row9 col0\" >3</td>\n",
              "    </tr>\n",
              "    <tr>\n",
              "      <th id=\"T_70cf6_level0_row10\" class=\"row_heading level0 row10\" >Gujarat Lions</th>\n",
              "      <td id=\"T_70cf6_row10_col0\" class=\"data row10 col0\" >1</td>\n",
              "    </tr>\n",
              "    <tr>\n",
              "      <th id=\"T_70cf6_level0_row11\" class=\"row_heading level0 row11\" >Delhi Capitals</th>\n",
              "      <td id=\"T_70cf6_row11_col0\" class=\"data row11 col0\" >0</td>\n",
              "    </tr>\n",
              "    <tr>\n",
              "      <th id=\"T_70cf6_level0_row12\" class=\"row_heading level0 row12\" >Kochi Tuskers Kerala</th>\n",
              "      <td id=\"T_70cf6_row12_col0\" class=\"data row12 col0\" >0</td>\n",
              "    </tr>\n",
              "    <tr>\n",
              "      <th id=\"T_70cf6_level0_row13\" class=\"row_heading level0 row13\" >Rising Pune Supergiant</th>\n",
              "      <td id=\"T_70cf6_row13_col0\" class=\"data row13 col0\" >0</td>\n",
              "    </tr>\n",
              "    <tr>\n",
              "      <th id=\"T_70cf6_level0_row14\" class=\"row_heading level0 row14\" >Rising Pune Supergiants</th>\n",
              "      <td id=\"T_70cf6_row14_col0\" class=\"data row14 col0\" >0</td>\n",
              "    </tr>\n",
              "  </tbody>\n",
              "</table>\n"
            ]
          },
          "metadata": {},
          "execution_count": 28
        }
      ],
      "source": [
        "# teams who won when they won the Toss\n",
        "\n",
        "def tosswin_wins(team):\n",
        "  x = pd.crosstab(matches['toss_winner'],matches['winner'])\n",
        "  return x[[team]].sort_values(by = team, ascending = False).style.background_gradient(cmap = 'copper')\n",
        "\n",
        "#lets check this function with Mumbai Indians\n",
        "tosswin_wins('Mumbai Indians')"
      ]
    },
    {
      "cell_type": "code",
      "execution_count": null,
      "metadata": {
        "colab": {
          "base_uri": "https://localhost:8080/",
          "height": 583,
          "referenced_widgets": [
            "c49946f39e484bf69a08a391f8868f9c",
            "908f452b22534a25a392ddb917c0bd01",
            "a0e26d6ced3b44df8f7196b8160af45f",
            "c2d4efb2b8fc4b09a1e04c524e7c75f5",
            "9c70216191cf42b2885ca5aae70f2e6d",
            "ebcf2879dca74abfaeb0e289e35a40fe",
            "e26e6452c1684b37994ee2fdb0bf69d7"
          ]
        },
        "id": "PsBs_9AIcInN",
        "outputId": "51b3f3fc-1224-4675-f55c-0725d66a95c3"
      },
      "outputs": [
        {
          "output_type": "display_data",
          "data": {
            "text/plain": [
              "interactive(children=(Dropdown(description='team', options=('Mumbai Indians', 'Kings XI Punjab', 'Chennai Supe…"
            ],
            "application/vnd.jupyter.widget-view+json": {
              "version_major": 2,
              "version_minor": 0,
              "model_id": "c49946f39e484bf69a08a391f8868f9c"
            }
          },
          "metadata": {}
        }
      ],
      "source": [
        "# lets convert the above function into interactive  \n",
        "\n",
        "@interact\n",
        "def tosswin_wins(team = matches['team1'].value_counts().index):\n",
        "  x = pd.crosstab(matches['toss_winner'],matches['winner'])\n",
        "  return x[[team]].sort_values(by = team, ascending = False).style.background_gradient(cmap = 'Oranges')\n"
      ]
    },
    {
      "cell_type": "markdown",
      "metadata": {
        "id": "rBWdA2nqe32m"
      },
      "source": [
        "**Checking the winning locations for all the team**"
      ]
    },
    {
      "cell_type": "code",
      "execution_count": null,
      "metadata": {
        "colab": {
          "base_uri": "https://localhost:8080/"
        },
        "id": "F8JESkX1dMxU",
        "outputId": "8a2cd120-1176-4e4f-e1af-85863a0a0b39"
      },
      "outputs": [
        {
          "output_type": "execute_result",
          "data": {
            "text/plain": [
              "Mumbai            53\n",
              "Kolkata           10\n",
              "Bengaluru          9\n",
              "Hyderabad          7\n",
              "Chennai            5\n",
              "Pune               4\n",
              "Chandigarh         4\n",
              "Delhi              4\n",
              "Jaipur             2\n",
              "Visakhapatnam      2\n",
              "Port Elizabeth     2\n",
              "Indore             2\n",
              "Centurion          1\n",
              "East London        1\n",
              "Cape Town          1\n",
              "Rajkot             1\n",
              "Ahmedabad          1\n",
              "Name: city, dtype: int64"
            ]
          },
          "metadata": {},
          "execution_count": 30
        }
      ],
      "source": [
        "# lets analyze the locations where a team won the match\n",
        "\n",
        "def teams_winning_location(team):\n",
        "  x = matches[['winner','city']]\n",
        "  x = x[x['winner'] == team]\n",
        "  return x['city'].value_counts()\n",
        "\n",
        "# lets do the testing for the Mumbai Indians\n",
        "teams_winning_location('Mumbai Indians')"
      ]
    },
    {
      "cell_type": "code",
      "execution_count": null,
      "metadata": {
        "colab": {
          "base_uri": "https://localhost:8080/"
        },
        "id": "zATZyrTyfqAC",
        "outputId": "2113f920-c751-4f7d-9ab2-b7c2a60492d1"
      },
      "outputs": [
        {
          "output_type": "execute_result",
          "data": {
            "text/plain": [
              "Mumbai Indians                 10\n",
              "Chennai Super Kings             5\n",
              "Royal Challengers Bangalore     4\n",
              "Kings XI Punjab                 3\n",
              "Gujarat Lions                   2\n",
              "Rajasthan Royals                2\n",
              "Sunrisers Hyderabad             2\n",
              "Rising Pune Supergiant          1\n",
              "Kochi Tuskers Kerala            1\n",
              "Delhi Daredevils                1\n",
              "Delhi Capitals                  1\n",
              "Name: winner, dtype: int64"
            ]
          },
          "metadata": {},
          "execution_count": 31
        }
      ],
      "source": [
        "# It seems that kolkata is lucky place for Mumbai Indians\n",
        "# Lets check how many times other Teams have won in Kolkata \n",
        "\n",
        "a = matches[matches['city']  == 'Kolkata'][['winner']]\n",
        "a['winner'].value_counts().iloc[1:]"
      ]
    },
    {
      "cell_type": "code",
      "execution_count": null,
      "metadata": {
        "colab": {
          "base_uri": "https://localhost:8080/",
          "height": 361,
          "referenced_widgets": [
            "ed6b3594d58d422aac537d816d2d2d29",
            "43bc9b676c2646a79298ad9a75baafdc",
            "ab8457218b26498184210f8ea7a69652",
            "6b8d06aff5904974ba6a59e071ae89d2",
            "e100e9e233c74ada9e2ff92d9a43ff61",
            "626eda4de13c41019311246bcbb581ae",
            "2d4e98a57323441fa511aad7c54930d5"
          ]
        },
        "id": "hGzltLdihIv_",
        "outputId": "2943859c-5d8c-4a71-89f1-405d96758240"
      },
      "outputs": [
        {
          "output_type": "display_data",
          "data": {
            "text/plain": [
              "interactive(children=(Dropdown(description='team', options=('Mumbai Indians', 'Kings XI Punjab', 'Chennai Supe…"
            ],
            "application/vnd.jupyter.widget-view+json": {
              "version_major": 2,
              "version_minor": 0,
              "model_id": "ed6b3594d58d422aac537d816d2d2d29"
            }
          },
          "metadata": {}
        }
      ],
      "source": [
        "# lets convert the above function into interactive\n",
        "\n",
        "@interact\n",
        "def winning_locations(team = list(matches['team1'].value_counts().index)):\n",
        "  z = matches[['winner','city']]\n",
        "  z = z[z['winner'] == team]\n",
        "  return z['city'].value_counts()"
      ]
    },
    {
      "cell_type": "markdown",
      "metadata": {
        "id": "c1hlfot3i-Fa"
      },
      "source": [
        "**Analyzing Toss decisions in IPL matches**"
      ]
    },
    {
      "cell_type": "code",
      "execution_count": null,
      "metadata": {
        "colab": {
          "base_uri": "https://localhost:8080/"
        },
        "id": "sxa8WhJPiZLT",
        "outputId": "ac2d5f24-e806-4ee3-c6a5-55640f988672"
      },
      "outputs": [
        {
          "output_type": "execute_result",
          "data": {
            "text/plain": [
              "field    463\n",
              "bat      293\n",
              "Name: toss_decision, dtype: int64"
            ]
          },
          "metadata": {},
          "execution_count": 33
        }
      ],
      "source": [
        "# Lets see the type of toss decisions\n",
        "\n",
        "matches['toss_decision'].value_counts()"
      ]
    },
    {
      "cell_type": "code",
      "execution_count": null,
      "metadata": {
        "colab": {
          "base_uri": "https://localhost:8080/"
        },
        "id": "3e-mitQkjg8c",
        "outputId": "794ff30c-7462-4b29-dd27-cc8df79987c6"
      },
      "outputs": [
        {
          "output_type": "stream",
          "name": "stdout",
          "text": [
            "Percentage of matches where toss decision is 'field':  61.0\n",
            "Percentage of matches where toss decision is 'bat':  39.0\n"
          ]
        }
      ],
      "source": [
        "# Probability of a team to win if they choose to field or bat\n",
        "\n",
        "field = matches[matches['toss_decision'] == 'field']\n",
        "bat = matches[matches['toss_decision'] == 'bat']\n",
        "\n",
        "print(\"Percentage of matches where toss decision is 'field': \",round(field.shape[0]/matches.shape[0],2) * 100)\n",
        "print(\"Percentage of matches where toss decision is 'bat': \",round(bat.shape[0]/matches.shape[0],2) * 100)"
      ]
    },
    {
      "cell_type": "code",
      "execution_count": null,
      "metadata": {
        "colab": {
          "base_uri": "https://localhost:8080/",
          "height": 456
        },
        "id": "8rFtfbDxkz0H",
        "outputId": "f2eae74b-e49d-4faf-fa82-3a1077ee9cd3"
      },
      "outputs": [
        {
          "output_type": "display_data",
          "data": {
            "text/plain": [
              "<Figure size 1500x600 with 1 Axes>"
            ],
            "image/png": "[encoded data removed]"
          },
          "metadata": {}
        }
      ],
      "source": [
        "# lets check how many times the IPL team Won the Toss\n",
        "\n",
        "sns.countplot(y = matches['toss_winner'],\n",
        "              palette = 'cividis')\n",
        "plt.title('Teams with Most Toss win \\n', fontsize = 20)\n",
        "plt.xlabel(' ')\n",
        "plt.ylabel(' ')\n",
        "plt.show()"
      ]
    },
    {
      "cell_type": "code",
      "execution_count": null,
      "metadata": {
        "colab": {
          "base_uri": "https://localhost:8080/",
          "height": 442
        },
        "id": "5EHgu0XymIjI",
        "outputId": "9dc39acb-468d-44b0-9f56-7781ed44eaac"
      },
      "outputs": [
        {
          "output_type": "display_data",
          "data": {
            "text/plain": [
              "<Figure size 1500x500 with 1 Axes>"
            ],
            "image/png": "[encoded data removed]"
          },
          "metadata": {}
        }
      ],
      "source": [
        "# Lets compare the Toss Decisions\n",
        "\n",
        "plt.rcParams['figure.figsize'] = (15,5)\n",
        "sns.countplot(x = matches['Season'].sort_values(), hue = matches['toss_decision'], palette = 'PuBu')\n",
        "plt.title(\"Decision to field or bat across seasons\", fontsize = 20)\n",
        "plt.xlabel(\" \")\n",
        "plt.ylabel(\" \")\n",
        "plt.show()"
      ]
    },
    {
      "cell_type": "code",
      "execution_count": null,
      "metadata": {
        "colab": {
          "base_uri": "https://localhost:8080/",
          "height": 101,
          "referenced_widgets": [
            "bc4436ee3e2d4c67bbff045cf75658ed",
            "917ee1101aa647399625a3967c0a20b5",
            "8a7b22d3df6545898e26673acacb9a2d",
            "6800c7023de44fbb8da67a4f44dff030",
            "863fec3ece4349e9be75adcb2ba48558",
            "61c5e75148bb431483820f89abf5fb05",
            "f4fe298505bc41648c4f24fc7d9660c5"
          ]
        },
        "id": "-bNvR-QKnSnv",
        "outputId": "19c9b4ce-9f03-4968-a253-2348916fb70e"
      },
      "outputs": [
        {
          "output_type": "display_data",
          "data": {
            "text/plain": [
              "interactive(children=(Dropdown(description='team', options=('Mumbai Indians', 'Kolkata Knight Riders', 'Chenna…"
            ],
            "application/vnd.jupyter.widget-view+json": {
              "version_major": 2,
              "version_minor": 0,
              "model_id": "bc4436ee3e2d4c67bbff045cf75658ed"
            }
          },
          "metadata": {}
        }
      ],
      "source": [
        "# Lets see How the IPL Teams decide, whether to field or bat \n",
        "\n",
        "@interact\n",
        "def toss_decission(team = list(matches['toss_winner'].value_counts().index),\n",
        "                   ):\n",
        "  x = matches[matches['toss_winner'] == team]\n",
        "  return x['toss_decision'].value_counts()"
      ]
    },
    {
      "cell_type": "markdown",
      "source": [
        "**What is DL in an IPL match ?**"
      ],
      "metadata": {
        "id": "yGQ4EUVasypC"
      }
    },
    {
      "cell_type": "code",
      "source": [
        "# Lets check the percentage of matches where DL is applied\n",
        "\n",
        "dl_applied_no = matches[matches['dl_applied'] == 0]\n",
        "dl_applied_yes = matches[matches['dl_applied'] == 1]\n",
        "\n",
        "print('percentage of matches where DL is applied :', round(dl_applied_yes.shape[0]/matches.shape[0],2)* 100)\n",
        "print('percentage of matches where DL is not applied :', round(dl_applied_no.shape[0]/matches.shape[0],2)*100)"
      ],
      "metadata": {
        "colab": {
          "base_uri": "https://localhost:8080/"
        },
        "id": "D5C4JfH_sYz1",
        "outputId": "6ef3ffd4-e00c-4936-821a-860e7fbd7c31"
      },
      "execution_count": null,
      "outputs": [
        {
          "output_type": "stream",
          "name": "stdout",
          "text": [
            "percentage of matches where DL is applied : 3.0\n",
            "percentage of matches where DL is not applied : 97.0\n"
          ]
        }
      ]
    },
    {
      "cell_type": "code",
      "source": [
        "#lets check the team who won the matches when DL is applied\n",
        "\n",
        "a = matches[matches['dl_applied'] == 1]\n",
        "a['winner'].value_counts()"
      ],
      "metadata": {
        "colab": {
          "base_uri": "https://localhost:8080/"
        },
        "id": "YlskrvP-uh5U",
        "outputId": "a2465921-6e86-4e51-82cd-9b494f644335"
      },
      "execution_count": null,
      "outputs": [
        {
          "output_type": "execute_result",
          "data": {
            "text/plain": [
              "Kolkata Knight Riders          4\n",
              "Royal Challengers Bangalore    3\n",
              "Kings XI Punjab                2\n",
              "Chennai Super Kings            2\n",
              "Delhi Daredevils               2\n",
              "Sunrisers Hyderabad            2\n",
              "Rising Pune Supergiants        2\n",
              "Kochi Tuskers Kerala           1\n",
              "Rajasthan Royals               1\n",
              "Name: winner, dtype: int64"
            ]
          },
          "metadata": {},
          "execution_count": 41
        }
      ]
    },
    {
      "cell_type": "code",
      "source": [
        "# lets check the complete data of those matches where DL is applied \n",
        "\n",
        "matches[matches['dl_applied'] == 1][['Season','team1','team2','winner']]"
      ],
      "metadata": {
        "colab": {
          "base_uri": "https://localhost:8080/",
          "height": 645
        },
        "id": "WP1bBOliu9Sv",
        "outputId": "dda11f75-144d-4c08-f1cb-ceb3fdbac9fe"
      },
      "execution_count": null,
      "outputs": [
        {
          "output_type": "execute_result",
          "data": {
            "text/plain": [
              "       Season                        team1                        team2  \\\n",
              "56   IPL-2017          Sunrisers Hyderabad        Kolkata Knight Riders   \n",
              "99   IPL-2008             Delhi Daredevils              Kings XI Punjab   \n",
              "102  IPL-2008        Kolkata Knight Riders          Chennai Super Kings   \n",
              "119  IPL-2009              Kings XI Punjab             Delhi Daredevils   \n",
              "122  IPL-2009              Kings XI Punjab        Kolkata Knight Riders   \n",
              "148  IPL-2009          Chennai Super Kings              Kings XI Punjab   \n",
              "251  IPL-2011          Chennai Super Kings         Kochi Tuskers Kerala   \n",
              "280  IPL-2011          Chennai Super Kings        Kolkata Knight Riders   \n",
              "290  IPL-2011        Kolkata Knight Riders  Royal Challengers Bangalore   \n",
              "488  IPL-2014             Delhi Daredevils          Sunrisers Hyderabad   \n",
              "536  IPL-2015          Sunrisers Hyderabad        Kolkata Knight Riders   \n",
              "567  IPL-2015          Sunrisers Hyderabad  Royal Challengers Bangalore   \n",
              "597  IPL-2016          Sunrisers Hyderabad      Rising Pune Supergiants   \n",
              "620  IPL-2016      Rising Pune Supergiants        Kolkata Knight Riders   \n",
              "624  IPL-2016             Delhi Daredevils      Rising Pune Supergiants   \n",
              "625  IPL-2016  Royal Challengers Bangalore              Kings XI Punjab   \n",
              "641  IPL-2018             Rajasthan Royals             Delhi Daredevils   \n",
              "653  IPL-2018        Kolkata Knight Riders              Kings XI Punjab   \n",
              "667  IPL-2018             Delhi Daredevils             Rajasthan Royals   \n",
              "\n",
              "                          winner  \n",
              "56         Kolkata Knight Riders  \n",
              "99               Kings XI Punjab  \n",
              "102          Chennai Super Kings  \n",
              "119             Delhi Daredevils  \n",
              "122        Kolkata Knight Riders  \n",
              "148          Chennai Super Kings  \n",
              "251         Kochi Tuskers Kerala  \n",
              "280        Kolkata Knight Riders  \n",
              "290  Royal Challengers Bangalore  \n",
              "488          Sunrisers Hyderabad  \n",
              "536          Sunrisers Hyderabad  \n",
              "567  Royal Challengers Bangalore  \n",
              "597      Rising Pune Supergiants  \n",
              "620        Kolkata Knight Riders  \n",
              "624      Rising Pune Supergiants  \n",
              "625  Royal Challengers Bangalore  \n",
              "641             Rajasthan Royals  \n",
              "653              Kings XI Punjab  \n",
              "667             Delhi Daredevils  "
            ],
            "text/html": [
              "\n",
              "  <div id=\"df-4b3491fb-a6ef-44ce-87ef-6124b549e864\">\n",
              "    <div class=\"colab-df-container\">\n",
              "      <div>\n",
              "<style scoped>\n",
              "    .dataframe tbody tr th:only-of-type {\n",
              "        vertical-align: middle;\n",
              "    }\n",
              "\n",
              "    .dataframe tbody tr th {\n",
              "        vertical-align: top;\n",
              "    }\n",
              "\n",
              "    .dataframe thead th {\n",
              "        text-align: right;\n",
              "    }\n",
              "</style>\n",
              "<table border=\"1\" class=\"dataframe\">\n",
              "  <thead>\n",
              "    <tr style=\"text-align: right;\">\n",
              "      <th></th>\n",
              "      <th>Season</th>\n",
              "      <th>team1</th>\n",
              "      <th>team2</th>\n",
              "      <th>winner</th>\n",
              "    </tr>\n",
              "  </thead>\n",
              "  <tbody>\n",
              "    <tr>\n",
              "      <th>56</th>\n",
              "      <td>IPL-2017</td>\n",
              "      <td>Sunrisers Hyderabad</td>\n",
              "      <td>Kolkata Knight Riders</td>\n",
              "      <td>Kolkata Knight Riders</td>\n",
              "    </tr>\n",
              "    <tr>\n",
              "      <th>99</th>\n",
              "      <td>IPL-2008</td>\n",
              "      <td>Delhi Daredevils</td>\n",
              "      <td>Kings XI Punjab</td>\n",
              "      <td>Kings XI Punjab</td>\n",
              "    </tr>\n",
              "    <tr>\n",
              "      <th>102</th>\n",
              "      <td>IPL-2008</td>\n",
              "      <td>Kolkata Knight Riders</td>\n",
              "      <td>Chennai Super Kings</td>\n",
              "      <td>Chennai Super Kings</td>\n",
              "    </tr>\n",
              "    <tr>\n",
              "      <th>119</th>\n",
              "      <td>IPL-2009</td>\n",
              "      <td>Kings XI Punjab</td>\n",
              "      <td>Delhi Daredevils</td>\n",
              "      <td>Delhi Daredevils</td>\n",
              "    </tr>\n",
              "    <tr>\n",
              "      <th>122</th>\n",
              "      <td>IPL-2009</td>\n",
              "      <td>Kings XI Punjab</td>\n",
              "      <td>Kolkata Knight Riders</td>\n",
              "      <td>Kolkata Knight Riders</td>\n",
              "    </tr>\n",
              "    <tr>\n",
              "      <th>148</th>\n",
              "      <td>IPL-2009</td>\n",
              "      <td>Chennai Super Kings</td>\n",
              "      <td>Kings XI Punjab</td>\n",
              "      <td>Chennai Super Kings</td>\n",
              "    </tr>\n",
              "    <tr>\n",
              "      <th>251</th>\n",
              "      <td>IPL-2011</td>\n",
              "      <td>Chennai Super Kings</td>\n",
              "      <td>Kochi Tuskers Kerala</td>\n",
              "      <td>Kochi Tuskers Kerala</td>\n",
              "    </tr>\n",
              "    <tr>\n",
              "      <th>280</th>\n",
              "      <td>IPL-2011</td>\n",
              "      <td>Chennai Super Kings</td>\n",
              "      <td>Kolkata Knight Riders</td>\n",
              "      <td>Kolkata Knight Riders</td>\n",
              "    </tr>\n",
              "    <tr>\n",
              "      <th>290</th>\n",
              "      <td>IPL-2011</td>\n",
              "      <td>Kolkata Knight Riders</td>\n",
              "      <td>Royal Challengers Bangalore</td>\n",
              "      <td>Royal Challengers Bangalore</td>\n",
              "    </tr>\n",
              "    <tr>\n",
              "      <th>488</th>\n",
              "      <td>IPL-2014</td>\n",
              "      <td>Delhi Daredevils</td>\n",
              "      <td>Sunrisers Hyderabad</td>\n",
              "      <td>Sunrisers Hyderabad</td>\n",
              "    </tr>\n",
              "    <tr>\n",
              "      <th>536</th>\n",
              "      <td>IPL-2015</td>\n",
              "      <td>Sunrisers Hyderabad</td>\n",
              "      <td>Kolkata Knight Riders</td>\n",
              "      <td>Sunrisers Hyderabad</td>\n",
              "    </tr>\n",
              "    <tr>\n",
              "      <th>567</th>\n",
              "      <td>IPL-2015</td>\n",
              "      <td>Sunrisers Hyderabad</td>\n",
              "      <td>Royal Challengers Bangalore</td>\n",
              "      <td>Royal Challengers Bangalore</td>\n",
              "    </tr>\n",
              "    <tr>\n",
              "      <th>597</th>\n",
              "      <td>IPL-2016</td>\n",
              "      <td>Sunrisers Hyderabad</td>\n",
              "      <td>Rising Pune Supergiants</td>\n",
              "      <td>Rising Pune Supergiants</td>\n",
              "    </tr>\n",
              "    <tr>\n",
              "      <th>620</th>\n",
              "      <td>IPL-2016</td>\n",
              "      <td>Rising Pune Supergiants</td>\n",
              "      <td>Kolkata Knight Riders</td>\n",
              "      <td>Kolkata Knight Riders</td>\n",
              "    </tr>\n",
              "    <tr>\n",
              "      <th>624</th>\n",
              "      <td>IPL-2016</td>\n",
              "      <td>Delhi Daredevils</td>\n",
              "      <td>Rising Pune Supergiants</td>\n",
              "      <td>Rising Pune Supergiants</td>\n",
              "    </tr>\n",
              "    <tr>\n",
              "      <th>625</th>\n",
              "      <td>IPL-2016</td>\n",
              "      <td>Royal Challengers Bangalore</td>\n",
              "      <td>Kings XI Punjab</td>\n",
              "      <td>Royal Challengers Bangalore</td>\n",
              "    </tr>\n",
              "    <tr>\n",
              "      <th>641</th>\n",
              "      <td>IPL-2018</td>\n",
              "      <td>Rajasthan Royals</td>\n",
              "      <td>Delhi Daredevils</td>\n",
              "      <td>Rajasthan Royals</td>\n",
              "    </tr>\n",
              "    <tr>\n",
              "      <th>653</th>\n",
              "      <td>IPL-2018</td>\n",
              "      <td>Kolkata Knight Riders</td>\n",
              "      <td>Kings XI Punjab</td>\n",
              "      <td>Kings XI Punjab</td>\n",
              "    </tr>\n",
              "    <tr>\n",
              "      <th>667</th>\n",
              "      <td>IPL-2018</td>\n",
              "      <td>Delhi Daredevils</td>\n",
              "      <td>Rajasthan Royals</td>\n",
              "      <td>Delhi Daredevils</td>\n",
              "    </tr>\n",
              "  </tbody>\n",
              "</table>\n",
              "</div>\n",
              "      <button class=\"colab-df-convert\" onclick=\"convertToInteractive('df-4b3491fb-a6ef-44ce-87ef-6124b549e864')\"\n",
              "              title=\"Convert this dataframe to an interactive table.\"\n",
              "              style=\"display:none;\">\n",
              "        \n",
              "  <svg xmlns=\"http://www.w3.org/2000/svg\" height=\"24px\"viewBox=\"0 0 24 24\"\n",
              "       width=\"24px\">\n",
              "    <path d=\"M0 0h24v24H0V0z\" fill=\"none\"/>\n",
              "    <path d=\"M18.56 5.44l.94 2.06.94-2.06 2.06-.94-2.06-.94-.94-2.06-.94 2.06-2.06.94zm-11 1L8.5 8.5l.94-2.06 2.06-.94-2.06-.94L8.5 2.5l-.94 2.06-2.06.94zm10 10l.94 2.06.94-2.06 2.06-.94-2.06-.94-.94-2.06-.94 2.06-2.06.94z\"/><path d=\"M17.41 7.96l-1.37-1.37c-.4-.4-.92-.59-1.43-.59-.52 0-1.04.2-1.43.59L10.3 9.45l-7.72 7.72c-.78.78-.78 2.05 0 2.83L4 21.41c.39.39.9.59 1.41.59.51 0 1.02-.2 1.41-.59l7.78-7.78 2.81-2.81c.8-.78.8-2.07 0-2.86zM5.41 20L4 18.59l7.72-7.72 1.47 1.35L5.41 20z\"/>\n",
              "  </svg>\n",
              "      </button>\n",
              "      \n",
              "  <style>\n",
              "    .colab-df-container {\n",
              "      display:flex;\n",
              "      flex-wrap:wrap;\n",
              "      gap: 12px;\n",
              "    }\n",
              "\n",
              "    .colab-df-convert {\n",
              "      background-color: #E8F0FE;\n",
              "      border: none;\n",
              "      border-radius: 50%;\n",
              "      cursor: pointer;\n",
              "      display: none;\n",
              "      fill: #1967D2;\n",
              "      height: 32px;\n",
              "      padding: 0 0 0 0;\n",
              "      width: 32px;\n",
              "    }\n",
              "\n",
              "    .colab-df-convert:hover {\n",
              "      background-color: #E2EBFA;\n",
              "      box-shadow: 0px 1px 2px rgba(60, 64, 67, 0.3), 0px 1px 3px 1px rgba(60, 64, 67, 0.15);\n",
              "      fill: #174EA6;\n",
              "    }\n",
              "\n",
              "    [theme=dark] .colab-df-convert {\n",
              "      background-color: #3B4455;\n",
              "      fill: #D2E3FC;\n",
              "    }\n",
              "\n",
              "    [theme=dark] .colab-df-convert:hover {\n",
              "      background-color: #434B5C;\n",
              "      box-shadow: 0px 1px 3px 1px rgba(0, 0, 0, 0.15);\n",
              "      filter: drop-shadow(0px 1px 2px rgba(0, 0, 0, 0.3));\n",
              "      fill: #FFFFFF;\n",
              "    }\n",
              "  </style>\n",
              "\n",
              "      <script>\n",
              "        const buttonEl =\n",
              "          document.querySelector('#df-4b3491fb-a6ef-44ce-87ef-6124b549e864 button.colab-df-convert');\n",
              "        buttonEl.style.display =\n",
              "          google.colab.kernel.accessAllowed ? 'block' : 'none';\n",
              "\n",
              "        async function convertToInteractive(key) {\n",
              "          const element = document.querySelector('#df-4b3491fb-a6ef-44ce-87ef-6124b549e864');\n",
              "          const dataTable =\n",
              "            await google.colab.kernel.invokeFunction('convertToInteractive',\n",
              "                                                     [key], {});\n",
              "          if (!dataTable) return;\n",
              "\n",
              "          const docLinkHtml = 'Like what you see? Visit the ' +\n",
              "            '<a target=\"_blank\" href=https://colab.research.google.com/notebooks/data_table.ipynb>data table notebook</a>'\n",
              "            + ' to learn more about interactive tables.';\n",
              "          element.innerHTML = '';\n",
              "          dataTable['output_type'] = 'display_data';\n",
              "          await google.colab.output.renderOutput(dataTable, element);\n",
              "          const docLink = document.createElement('div');\n",
              "          docLink.innerHTML = docLinkHtml;\n",
              "          element.appendChild(docLink);\n",
              "        }\n",
              "      </script>\n",
              "    </div>\n",
              "  </div>\n",
              "  "
            ]
          },
          "metadata": {},
          "execution_count": 44
        }
      ]
    },
    {
      "cell_type": "code",
      "source": [],
      "metadata": {
        "id": "punmKtJNvjyo"
      },
      "execution_count": null,
      "outputs": []
    }
  ],
  "metadata": {
    "colab": {
      "provenance": []
    },
    "kernelspec": {
      "display_name": "Python 3",
      "name": "python3"
    },
    "language_info": {
      "name": "python"
    },
    "widgets": {
      "application/vnd.jupyter.widget-state+json": {
        "7eff8aa915684fb6a71fe3fa774f8b02": {
          "model_module": "@jupyter-widgets/controls",
          "model_name": "VBoxModel",
          "model_module_version": "1.5.0",
          "state": {
            "_dom_classes": [
              "widget-interact"
            ],
            "_model_module": "@jupyter-widgets/controls",
            "_model_module_version": "1.5.0",
            "_model_name": "VBoxModel",
            "_view_count": null,
            "_view_module": "@jupyter-widgets/controls",
            "_view_module_version": "1.5.0",
            "_view_name": "VBoxView",
            "box_style": "",
            "children": [
              "IPY_MODEL_58b0d7fc46914490800482f7e0a59f7f",
              "IPY_MODEL_60d33839514e4450adc646e21fc6fa0d",
              "IPY_MODEL_361b6a9487d74e449e8b3ddd889f1ea9"
            ],
            "layout": "IPY_MODEL_d5271cac661d4f48b96f760f73ec4f12"
          }
        },
        "58b0d7fc46914490800482f7e0a59f7f": {
          "model_module": "@jupyter-widgets/controls",
          "model_name": "DropdownModel",
          "model_module_version": "1.5.0",
          "state": {
            "_dom_classes": [],
            "_model_module": "@jupyter-widgets/controls",
            "_model_module_version": "1.5.0",
            "_model_name": "DropdownModel",
            "_options_labels": [
              "IPL-2013",
              "IPL-2012",
              "IPL-2011",
              "IPL-2010",
              "IPL-2014",
              "IPL-2016",
              "IPL-2018",
              "IPL-2019",
              "IPL-2017",
              "IPL-2015",
              "IPL-2008",
              "IPL-2009"
            ],
            "_view_count": null,
            "_view_module": "@jupyter-widgets/controls",
            "_view_module_version": "1.5.0",
            "_view_name": "DropdownView",
            "description": "season",
            "description_tooltip": null,
            "disabled": false,
            "index": 0,
            "layout": "IPY_MODEL_47c4b7ebcfef465d892b0897e80e1acf",
            "style": "IPY_MODEL_68285cd0294f45048f17817c079aee67"
          }
        },
        "60d33839514e4450adc646e21fc6fa0d": {
          "model_module": "@jupyter-widgets/controls",
          "model_name": "DropdownModel",
          "model_module_version": "1.5.0",
          "state": {
            "_dom_classes": [],
            "_model_module": "@jupyter-widgets/controls",
            "_model_module_version": "1.5.0",
            "_model_name": "DropdownModel",
            "_options_labels": [
              "Mumbai Indians",
              "Kings XI Punjab",
              "Chennai Super Kings",
              "Royal Challengers Bangalore",
              "Kolkata Knight Riders",
              "Delhi Daredevils",
              "Rajasthan Royals",
              "Sunrisers Hyderabad",
              "Deccan Chargers",
              "Pune Warriors",
              "Gujarat Lions",
              "Rising Pune Supergiant",
              "Kochi Tuskers Kerala",
              "Rising Pune Supergiants",
              "Delhi Capitals"
            ],
            "_view_count": null,
            "_view_module": "@jupyter-widgets/controls",
            "_view_module_version": "1.5.0",
            "_view_name": "DropdownView",
            "description": "team",
            "description_tooltip": null,
            "disabled": false,
            "index": 0,
            "layout": "IPY_MODEL_52439d6fb20b444293d4e08906f635ec",
            "style": "IPY_MODEL_7766571c4ca94eaea6dc8fa8207f5c81"
          }
        },
        "361b6a9487d74e449e8b3ddd889f1ea9": {
          "model_module": "@jupyter-widgets/output",
          "model_name": "OutputModel",
          "model_module_version": "1.0.0",
          "state": {
            "_dom_classes": [],
            "_model_module": "@jupyter-widgets/output",
            "_model_module_version": "1.0.0",
            "_model_name": "OutputModel",
            "_view_count": null,
            "_view_module": "@jupyter-widgets/output",
            "_view_module_version": "1.0.0",
            "_view_name": "OutputView",
            "layout": "IPY_MODEL_21b9679ff495463ba40d252b2c2f7032",
            "msg_id": "",
            "outputs": [
              {
                "output_type": "display_data",
                "data": {
                  "text/plain": "KA Pollard      2\nRG Sharma       2\nKD Karthik      1\nV Sehwag        1\nDR Smith        1\nI Sharma        1\nMG Johnson      1\nSR Tendulkar    1\nAP Tare         1\nName: player_of_match, dtype: int64"
                },
                "metadata": {}
              }
            ]
          }
        },
        "d5271cac661d4f48b96f760f73ec4f12": {
          "model_module": "@jupyter-widgets/base",
          "model_name": "LayoutModel",
          "model_module_version": "1.2.0",
          "state": {
            "_model_module": "@jupyter-widgets/base",
            "_model_module_version": "1.2.0",
            "_model_name": "LayoutModel",
            "_view_count": null,
            "_view_module": "@jupyter-widgets/base",
            "_view_module_version": "1.2.0",
            "_view_name": "LayoutView",
            "align_content": null,
            "align_items": null,
            "align_self": null,
            "border": null,
            "bottom": null,
            "display": null,
            "flex": null,
            "flex_flow": null,
            "grid_area": null,
            "grid_auto_columns": null,
            "grid_auto_flow": null,
            "grid_auto_rows": null,
            "grid_column": null,
            "grid_gap": null,
            "grid_row": null,
            "grid_template_areas": null,
            "grid_template_columns": null,
            "grid_template_rows": null,
            "height": null,
            "justify_content": null,
            "justify_items": null,
            "left": null,
            "margin": null,
            "max_height": null,
            "max_width": null,
            "min_height": null,
            "min_width": null,
            "object_fit": null,
            "object_position": null,
            "order": null,
            "overflow": null,
            "overflow_x": null,
            "overflow_y": null,
            "padding": null,
            "right": null,
            "top": null,
            "visibility": null,
            "width": null
          }
        },
        "47c4b7ebcfef465d892b0897e80e1acf": {
          "model_module": "@jupyter-widgets/base",
          "model_name": "LayoutModel",
          "model_module_version": "1.2.0",
          "state": {
            "_model_module": "@jupyter-widgets/base",
            "_model_module_version": "1.2.0",
            "_model_name": "LayoutModel",
            "_view_count": null,
            "_view_module": "@jupyter-widgets/base",
            "_view_module_version": "1.2.0",
            "_view_name": "LayoutView",
            "align_content": null,
            "align_items": null,
            "align_self": null,
            "border": null,
            "bottom": null,
            "display": null,
            "flex": null,
            "flex_flow": null,
            "grid_area": null,
            "grid_auto_columns": null,
            "grid_auto_flow": null,
            "grid_auto_rows": null,
            "grid_column": null,
            "grid_gap": null,
            "grid_row": null,
            "grid_template_areas": null,
            "grid_template_columns": null,
            "grid_template_rows": null,
            "height": null,
            "justify_content": null,
            "justify_items": null,
            "left": null,
            "margin": null,
            "max_height": null,
            "max_width": null,
            "min_height": null,
            "min_width": null,
            "object_fit": null,
            "object_position": null,
            "order": null,
            "overflow": null,
            "overflow_x": null,
            "overflow_y": null,
            "padding": null,
            "right": null,
            "top": null,
            "visibility": null,
            "width": null
          }
        },
        "68285cd0294f45048f17817c079aee67": {
          "model_module": "@jupyter-widgets/controls",
          "model_name": "DescriptionStyleModel",
          "model_module_version": "1.5.0",
          "state": {
            "_model_module": "@jupyter-widgets/controls",
            "_model_module_version": "1.5.0",
            "_model_name": "DescriptionStyleModel",
            "_view_count": null,
            "_view_module": "@jupyter-widgets/base",
            "_view_module_version": "1.2.0",
            "_view_name": "StyleView",
            "description_width": ""
          }
        },
        "52439d6fb20b444293d4e08906f635ec": {
          "model_module": "@jupyter-widgets/base",
          "model_name": "LayoutModel",
          "model_module_version": "1.2.0",
          "state": {
            "_model_module": "@jupyter-widgets/base",
            "_model_module_version": "1.2.0",
            "_model_name": "LayoutModel",
            "_view_count": null,
            "_view_module": "@jupyter-widgets/base",
            "_view_module_version": "1.2.0",
            "_view_name": "LayoutView",
            "align_content": null,
            "align_items": null,
            "align_self": null,
            "border": null,
            "bottom": null,
            "display": null,
            "flex": null,
            "flex_flow": null,
            "grid_area": null,
            "grid_auto_columns": null,
            "grid_auto_flow": null,
            "grid_auto_rows": null,
            "grid_column": null,
            "grid_gap": null,
            "grid_row": null,
            "grid_template_areas": null,
            "grid_template_columns": null,
            "grid_template_rows": null,
            "height": null,
            "justify_content": null,
            "justify_items": null,
            "left": null,
            "margin": null,
            "max_height": null,
            "max_width": null,
            "min_height": null,
            "min_width": null,
            "object_fit": null,
            "object_position": null,
            "order": null,
            "overflow": null,
            "overflow_x": null,
            "overflow_y": null,
            "padding": null,
            "right": null,
            "top": null,
            "visibility": null,
            "width": null
          }
        },
        "7766571c4ca94eaea6dc8fa8207f5c81": {
          "model_module": "@jupyter-widgets/controls",
          "model_name": "DescriptionStyleModel",
          "model_module_version": "1.5.0",
          "state": {
            "_model_module": "@jupyter-widgets/controls",
            "_model_module_version": "1.5.0",
            "_model_name": "DescriptionStyleModel",
            "_view_count": null,
            "_view_module": "@jupyter-widgets/base",
            "_view_module_version": "1.2.0",
            "_view_name": "StyleView",
            "description_width": ""
          }
        },
        "21b9679ff495463ba40d252b2c2f7032": {
          "model_module": "@jupyter-widgets/base",
          "model_name": "LayoutModel",
          "model_module_version": "1.2.0",
          "state": {
            "_model_module": "@jupyter-widgets/base",
            "_model_module_version": "1.2.0",
            "_model_name": "LayoutModel",
            "_view_count": null,
            "_view_module": "@jupyter-widgets/base",
            "_view_module_version": "1.2.0",
            "_view_name": "LayoutView",
            "align_content": null,
            "align_items": null,
            "align_self": null,
            "border": null,
            "bottom": null,
            "display": null,
            "flex": null,
            "flex_flow": null,
            "grid_area": null,
            "grid_auto_columns": null,
            "grid_auto_flow": null,
            "grid_auto_rows": null,
            "grid_column": null,
            "grid_gap": null,
            "grid_row": null,
            "grid_template_areas": null,
            "grid_template_columns": null,
            "grid_template_rows": null,
            "height": null,
            "justify_content": null,
            "justify_items": null,
            "left": null,
            "margin": null,
            "max_height": null,
            "max_width": null,
            "min_height": null,
            "min_width": null,
            "object_fit": null,
            "object_position": null,
            "order": null,
            "overflow": null,
            "overflow_x": null,
            "overflow_y": null,
            "padding": null,
            "right": null,
            "top": null,
            "visibility": null,
            "width": null
          }
        },
        "0719b071f027409bad4a55095b91830f": {
          "model_module": "@jupyter-widgets/controls",
          "model_name": "VBoxModel",
          "model_module_version": "1.5.0",
          "state": {
            "_dom_classes": [
              "widget-interact"
            ],
            "_model_module": "@jupyter-widgets/controls",
            "_model_module_version": "1.5.0",
            "_model_name": "VBoxModel",
            "_view_count": null,
            "_view_module": "@jupyter-widgets/controls",
            "_view_module_version": "1.5.0",
            "_view_name": "VBoxView",
            "box_style": "",
            "children": [
              "IPY_MODEL_c680dceca1b14d68879d450f9eef9e04",
              "IPY_MODEL_967d0f939de24edba0f33bc2fb3bfe33"
            ],
            "layout": "IPY_MODEL_3dbb5fc37c96452f8bd26637884c9efd"
          }
        },
        "c680dceca1b14d68879d450f9eef9e04": {
          "model_module": "@jupyter-widgets/controls",
          "model_name": "DropdownModel",
          "model_module_version": "1.5.0",
          "state": {
            "_dom_classes": [],
            "_model_module": "@jupyter-widgets/controls",
            "_model_module_version": "1.5.0",
            "_model_name": "DropdownModel",
            "_options_labels": [
              "IPL-2013",
              "IPL-2012",
              "IPL-2011",
              "IPL-2010",
              "IPL-2014",
              "IPL-2016",
              "IPL-2018",
              "IPL-2019",
              "IPL-2017",
              "IPL-2015",
              "IPL-2008",
              "IPL-2009"
            ],
            "_view_count": null,
            "_view_module": "@jupyter-widgets/controls",
            "_view_module_version": "1.5.0",
            "_view_name": "DropdownView",
            "description": "season",
            "description_tooltip": null,
            "disabled": false,
            "index": 0,
            "layout": "IPY_MODEL_7e557bffe7ce4652826185759a7e8081",
            "style": "IPY_MODEL_c6f6e200ebda43269c69584e30d879e3"
          }
        },
        "967d0f939de24edba0f33bc2fb3bfe33": {
          "model_module": "@jupyter-widgets/output",
          "model_name": "OutputModel",
          "model_module_version": "1.0.0",
          "state": {
            "_dom_classes": [],
            "_model_module": "@jupyter-widgets/output",
            "_model_module_version": "1.0.0",
            "_model_name": "OutputModel",
            "_view_count": null,
            "_view_module": "@jupyter-widgets/output",
            "_view_module_version": "1.0.0",
            "_view_name": "OutputView",
            "layout": "IPY_MODEL_b52c34187ec74e1fa555828ca74507fc",
            "msg_id": "",
            "outputs": [
              {
                "output_type": "display_data",
                "data": {
                  "text/plain": "<pandas.io.formats.style.Styler at 0x7fda86925370>",
                  "text/html": "<style type=\"text/css\">\n#T_32a0d_row0_col2, #T_32a0d_row1_col2, #T_32a0d_row2_col2, #T_32a0d_row3_col2, #T_32a0d_row4_col2, #T_32a0d_row5_col2, #T_32a0d_row6_col2, #T_32a0d_row7_col2 {\n  background-color: #00441b;\n  color: #f1f1f1;\n}\n#T_32a0d_row8_col2 {\n  background-color: #37a055;\n  color: #f1f1f1;\n}\n#T_32a0d_row9_col2, #T_32a0d_row10_col2, #T_32a0d_row11_col2 {\n  background-color: #f7fcf5;\n  color: #000000;\n}\n</style>\n<table id=\"T_32a0d\" class=\"dataframe\">\n  <thead>\n    <tr>\n      <th class=\"blank level0\" >&nbsp;</th>\n      <th id=\"T_32a0d_level0_col0\" class=\"col_heading level0 col0\" >Season</th>\n      <th id=\"T_32a0d_level0_col1\" class=\"col_heading level0 col1\" >city</th>\n      <th id=\"T_32a0d_level0_col2\" class=\"col_heading level0 col2\" >count</th>\n    </tr>\n  </thead>\n  <tbody>\n    <tr>\n      <th id=\"T_32a0d_level0_row0\" class=\"row_heading level0 row0\" >0</th>\n      <td id=\"T_32a0d_row0_col0\" class=\"data row0 col0\" >IPL-2013</td>\n      <td id=\"T_32a0d_row0_col1\" class=\"data row0 col1\" >Bengaluru</td>\n      <td id=\"T_32a0d_row0_col2\" class=\"data row0 col2\" >8</td>\n    </tr>\n    <tr>\n      <th id=\"T_32a0d_level0_row1\" class=\"row_heading level0 row1\" >2</th>\n      <td id=\"T_32a0d_row1_col0\" class=\"data row1 col0\" >IPL-2013</td>\n      <td id=\"T_32a0d_row1_col1\" class=\"data row1 col1\" >Chennai</td>\n      <td id=\"T_32a0d_row1_col2\" class=\"data row1 col2\" >8</td>\n    </tr>\n    <tr>\n      <th id=\"T_32a0d_level0_row2\" class=\"row_heading level0 row2\" >3</th>\n      <td id=\"T_32a0d_row2_col0\" class=\"data row2 col0\" >IPL-2013</td>\n      <td id=\"T_32a0d_row2_col1\" class=\"data row2 col1\" >Delhi</td>\n      <td id=\"T_32a0d_row2_col2\" class=\"data row2 col2\" >8</td>\n    </tr>\n    <tr>\n      <th id=\"T_32a0d_level0_row3\" class=\"row_heading level0 row3\" >5</th>\n      <td id=\"T_32a0d_row3_col0\" class=\"data row3 col0\" >IPL-2013</td>\n      <td id=\"T_32a0d_row3_col1\" class=\"data row3 col1\" >Hyderabad</td>\n      <td id=\"T_32a0d_row3_col2\" class=\"data row3 col2\" >8</td>\n    </tr>\n    <tr>\n      <th id=\"T_32a0d_level0_row4\" class=\"row_heading level0 row4\" >6</th>\n      <td id=\"T_32a0d_row4_col0\" class=\"data row4 col0\" >IPL-2013</td>\n      <td id=\"T_32a0d_row4_col1\" class=\"data row4 col1\" >Jaipur</td>\n      <td id=\"T_32a0d_row4_col2\" class=\"data row4 col2\" >8</td>\n    </tr>\n    <tr>\n      <th id=\"T_32a0d_level0_row5\" class=\"row_heading level0 row5\" >7</th>\n      <td id=\"T_32a0d_row5_col0\" class=\"data row5 col0\" >IPL-2013</td>\n      <td id=\"T_32a0d_row5_col1\" class=\"data row5 col1\" >Kolkata</td>\n      <td id=\"T_32a0d_row5_col2\" class=\"data row5 col2\" >8</td>\n    </tr>\n    <tr>\n      <th id=\"T_32a0d_level0_row6\" class=\"row_heading level0 row6\" >8</th>\n      <td id=\"T_32a0d_row6_col0\" class=\"data row6 col0\" >IPL-2013</td>\n      <td id=\"T_32a0d_row6_col1\" class=\"data row6 col1\" >Mumbai</td>\n      <td id=\"T_32a0d_row6_col2\" class=\"data row6 col2\" >8</td>\n    </tr>\n    <tr>\n      <th id=\"T_32a0d_level0_row7\" class=\"row_heading level0 row7\" >9</th>\n      <td id=\"T_32a0d_row7_col0\" class=\"data row7 col0\" >IPL-2013</td>\n      <td id=\"T_32a0d_row7_col1\" class=\"data row7 col1\" >Pune</td>\n      <td id=\"T_32a0d_row7_col2\" class=\"data row7 col2\" >8</td>\n    </tr>\n    <tr>\n      <th id=\"T_32a0d_level0_row8\" class=\"row_heading level0 row8\" >1</th>\n      <td id=\"T_32a0d_row8_col0\" class=\"data row8 col0\" >IPL-2013</td>\n      <td id=\"T_32a0d_row8_col1\" class=\"data row8 col1\" >Chandigarh</td>\n      <td id=\"T_32a0d_row8_col2\" class=\"data row8 col2\" >6</td>\n    </tr>\n    <tr>\n      <th id=\"T_32a0d_level0_row9\" class=\"row_heading level0 row9\" >4</th>\n      <td id=\"T_32a0d_row9_col0\" class=\"data row9 col0\" >IPL-2013</td>\n      <td id=\"T_32a0d_row9_col1\" class=\"data row9 col1\" >Dharamsala</td>\n      <td id=\"T_32a0d_row9_col2\" class=\"data row9 col2\" >2</td>\n    </tr>\n    <tr>\n      <th id=\"T_32a0d_level0_row10\" class=\"row_heading level0 row10\" >10</th>\n      <td id=\"T_32a0d_row10_col0\" class=\"data row10 col0\" >IPL-2013</td>\n      <td id=\"T_32a0d_row10_col1\" class=\"data row10 col1\" >Raipur</td>\n      <td id=\"T_32a0d_row10_col2\" class=\"data row10 col2\" >2</td>\n    </tr>\n    <tr>\n      <th id=\"T_32a0d_level0_row11\" class=\"row_heading level0 row11\" >11</th>\n      <td id=\"T_32a0d_row11_col0\" class=\"data row11 col0\" >IPL-2013</td>\n      <td id=\"T_32a0d_row11_col1\" class=\"data row11 col1\" >Ranchi</td>\n      <td id=\"T_32a0d_row11_col2\" class=\"data row11 col2\" >2</td>\n    </tr>\n  </tbody>\n</table>\n"
                },
                "metadata": {}
              }
            ]
          }
        },
        "3dbb5fc37c96452f8bd26637884c9efd": {
          "model_module": "@jupyter-widgets/base",
          "model_name": "LayoutModel",
          "model_module_version": "1.2.0",
          "state": {
            "_model_module": "@jupyter-widgets/base",
            "_model_module_version": "1.2.0",
            "_model_name": "LayoutModel",
            "_view_count": null,
            "_view_module": "@jupyter-widgets/base",
            "_view_module_version": "1.2.0",
            "_view_name": "LayoutView",
            "align_content": null,
            "align_items": null,
            "align_self": null,
            "border": null,
            "bottom": null,
            "display": null,
            "flex": null,
            "flex_flow": null,
            "grid_area": null,
            "grid_auto_columns": null,
            "grid_auto_flow": null,
            "grid_auto_rows": null,
            "grid_column": null,
            "grid_gap": null,
            "grid_row": null,
            "grid_template_areas": null,
            "grid_template_columns": null,
            "grid_template_rows": null,
            "height": null,
            "justify_content": null,
            "justify_items": null,
            "left": null,
            "margin": null,
            "max_height": null,
            "max_width": null,
            "min_height": null,
            "min_width": null,
            "object_fit": null,
            "object_position": null,
            "order": null,
            "overflow": null,
            "overflow_x": null,
            "overflow_y": null,
            "padding": null,
            "right": null,
            "top": null,
            "visibility": null,
            "width": null
          }
        },
        "7e557bffe7ce4652826185759a7e8081": {
          "model_module": "@jupyter-widgets/base",
          "model_name": "LayoutModel",
          "model_module_version": "1.2.0",
          "state": {
            "_model_module": "@jupyter-widgets/base",
            "_model_module_version": "1.2.0",
            "_model_name": "LayoutModel",
            "_view_count": null,
            "_view_module": "@jupyter-widgets/base",
            "_view_module_version": "1.2.0",
            "_view_name": "LayoutView",
            "align_content": null,
            "align_items": null,
            "align_self": null,
            "border": null,
            "bottom": null,
            "display": null,
            "flex": null,
            "flex_flow": null,
            "grid_area": null,
            "grid_auto_columns": null,
            "grid_auto_flow": null,
            "grid_auto_rows": null,
            "grid_column": null,
            "grid_gap": null,
            "grid_row": null,
            "grid_template_areas": null,
            "grid_template_columns": null,
            "grid_template_rows": null,
            "height": null,
            "justify_content": null,
            "justify_items": null,
            "left": null,
            "margin": null,
            "max_height": null,
            "max_width": null,
            "min_height": null,
            "min_width": null,
            "object_fit": null,
            "object_position": null,
            "order": null,
            "overflow": null,
            "overflow_x": null,
            "overflow_y": null,
            "padding": null,
            "right": null,
            "top": null,
            "visibility": null,
            "width": null
          }
        },
        "c6f6e200ebda43269c69584e30d879e3": {
          "model_module": "@jupyter-widgets/controls",
          "model_name": "DescriptionStyleModel",
          "model_module_version": "1.5.0",
          "state": {
            "_model_module": "@jupyter-widgets/controls",
            "_model_module_version": "1.5.0",
            "_model_name": "DescriptionStyleModel",
            "_view_count": null,
            "_view_module": "@jupyter-widgets/base",
            "_view_module_version": "1.2.0",
            "_view_name": "StyleView",
            "description_width": ""
          }
        },
        "b52c34187ec74e1fa555828ca74507fc": {
          "model_module": "@jupyter-widgets/base",
          "model_name": "LayoutModel",
          "model_module_version": "1.2.0",
          "state": {
            "_model_module": "@jupyter-widgets/base",
            "_model_module_version": "1.2.0",
            "_model_name": "LayoutModel",
            "_view_count": null,
            "_view_module": "@jupyter-widgets/base",
            "_view_module_version": "1.2.0",
            "_view_name": "LayoutView",
            "align_content": null,
            "align_items": null,
            "align_self": null,
            "border": null,
            "bottom": null,
            "display": null,
            "flex": null,
            "flex_flow": null,
            "grid_area": null,
            "grid_auto_columns": null,
            "grid_auto_flow": null,
            "grid_auto_rows": null,
            "grid_column": null,
            "grid_gap": null,
            "grid_row": null,
            "grid_template_areas": null,
            "grid_template_columns": null,
            "grid_template_rows": null,
            "height": null,
            "justify_content": null,
            "justify_items": null,
            "left": null,
            "margin": null,
            "max_height": null,
            "max_width": null,
            "min_height": null,
            "min_width": null,
            "object_fit": null,
            "object_position": null,
            "order": null,
            "overflow": null,
            "overflow_x": null,
            "overflow_y": null,
            "padding": null,
            "right": null,
            "top": null,
            "visibility": null,
            "width": null
          }
        },
        "c49946f39e484bf69a08a391f8868f9c": {
          "model_module": "@jupyter-widgets/controls",
          "model_name": "VBoxModel",
          "model_module_version": "1.5.0",
          "state": {
            "_dom_classes": [
              "widget-interact"
            ],
            "_model_module": "@jupyter-widgets/controls",
            "_model_module_version": "1.5.0",
            "_model_name": "VBoxModel",
            "_view_count": null,
            "_view_module": "@jupyter-widgets/controls",
            "_view_module_version": "1.5.0",
            "_view_name": "VBoxView",
            "box_style": "",
            "children": [
              "IPY_MODEL_908f452b22534a25a392ddb917c0bd01",
              "IPY_MODEL_a0e26d6ced3b44df8f7196b8160af45f"
            ],
            "layout": "IPY_MODEL_c2d4efb2b8fc4b09a1e04c524e7c75f5"
          }
        },
        "908f452b22534a25a392ddb917c0bd01": {
          "model_module": "@jupyter-widgets/controls",
          "model_name": "DropdownModel",
          "model_module_version": "1.5.0",
          "state": {
            "_dom_classes": [],
            "_model_module": "@jupyter-widgets/controls",
            "_model_module_version": "1.5.0",
            "_model_name": "DropdownModel",
            "_options_labels": [
              "Mumbai Indians",
              "Kings XI Punjab",
              "Chennai Super Kings",
              "Royal Challengers Bangalore",
              "Kolkata Knight Riders",
              "Delhi Daredevils",
              "Rajasthan Royals",
              "Sunrisers Hyderabad",
              "Deccan Chargers",
              "Pune Warriors",
              "Gujarat Lions",
              "Rising Pune Supergiant",
              "Kochi Tuskers Kerala",
              "Rising Pune Supergiants",
              "Delhi Capitals"
            ],
            "_view_count": null,
            "_view_module": "@jupyter-widgets/controls",
            "_view_module_version": "1.5.0",
            "_view_name": "DropdownView",
            "description": "team",
            "description_tooltip": null,
            "disabled": false,
            "index": 0,
            "layout": "IPY_MODEL_9c70216191cf42b2885ca5aae70f2e6d",
            "style": "IPY_MODEL_ebcf2879dca74abfaeb0e289e35a40fe"
          }
        },
        "a0e26d6ced3b44df8f7196b8160af45f": {
          "model_module": "@jupyter-widgets/output",
          "model_name": "OutputModel",
          "model_module_version": "1.0.0",
          "state": {
            "_dom_classes": [],
            "_model_module": "@jupyter-widgets/output",
            "_model_module_version": "1.0.0",
            "_model_name": "OutputModel",
            "_view_count": null,
            "_view_module": "@jupyter-widgets/output",
            "_view_module_version": "1.0.0",
            "_view_name": "OutputView",
            "layout": "IPY_MODEL_e26e6452c1684b37994ee2fdb0bf69d7",
            "msg_id": "",
            "outputs": [
              {
                "output_type": "display_data",
                "data": {
                  "text/plain": "<pandas.io.formats.style.Styler at 0x7fda86532f70>",
                  "text/html": "<style type=\"text/css\">\n#T_058b0_row0_col0 {\n  background-color: #7f2704;\n  color: #f1f1f1;\n}\n#T_058b0_row1_col0 {\n  background-color: #fee0c1;\n  color: #000000;\n}\n#T_058b0_row2_col0, #T_058b0_row3_col0 {\n  background-color: #fee6ce;\n  color: #000000;\n}\n#T_058b0_row4_col0, #T_058b0_row5_col0, #T_058b0_row6_col0 {\n  background-color: #fee8d2;\n  color: #000000;\n}\n#T_058b0_row7_col0, #T_058b0_row8_col0 {\n  background-color: #feeddb;\n  color: #000000;\n}\n#T_058b0_row9_col0 {\n  background-color: #ffefdf;\n  color: #000000;\n}\n#T_058b0_row10_col0 {\n  background-color: #fff3e7;\n  color: #000000;\n}\n#T_058b0_row11_col0, #T_058b0_row12_col0, #T_058b0_row13_col0, #T_058b0_row14_col0 {\n  background-color: #fff5eb;\n  color: #000000;\n}\n</style>\n<table id=\"T_058b0\" class=\"dataframe\">\n  <thead>\n    <tr>\n      <th class=\"index_name level0\" >winner</th>\n      <th id=\"T_058b0_level0_col0\" class=\"col_heading level0 col0\" >Mumbai Indians</th>\n    </tr>\n    <tr>\n      <th class=\"index_name level0\" >toss_winner</th>\n      <th class=\"blank col0\" >&nbsp;</th>\n    </tr>\n  </thead>\n  <tbody>\n    <tr>\n      <th id=\"T_058b0_level0_row0\" class=\"row_heading level0 row0\" >Mumbai Indians</th>\n      <td id=\"T_058b0_row0_col0\" class=\"data row0 col0\" >56</td>\n    </tr>\n    <tr>\n      <th id=\"T_058b0_level0_row1\" class=\"row_heading level0 row1\" >Delhi Daredevils</th>\n      <td id=\"T_058b0_row1_col0\" class=\"data row1 col0\" >9</td>\n    </tr>\n    <tr>\n      <th id=\"T_058b0_level0_row2\" class=\"row_heading level0 row2\" >Chennai Super Kings</th>\n      <td id=\"T_058b0_row2_col0\" class=\"data row2 col0\" >7</td>\n    </tr>\n    <tr>\n      <th id=\"T_058b0_level0_row3\" class=\"row_heading level0 row3\" >Kolkata Knight Riders</th>\n      <td id=\"T_058b0_row3_col0\" class=\"data row3 col0\" >7</td>\n    </tr>\n    <tr>\n      <th id=\"T_058b0_level0_row4\" class=\"row_heading level0 row4\" >Kings XI Punjab</th>\n      <td id=\"T_058b0_row4_col0\" class=\"data row4 col0\" >6</td>\n    </tr>\n    <tr>\n      <th id=\"T_058b0_level0_row5\" class=\"row_heading level0 row5\" >Rajasthan Royals</th>\n      <td id=\"T_058b0_row5_col0\" class=\"data row5 col0\" >6</td>\n    </tr>\n    <tr>\n      <th id=\"T_058b0_level0_row6\" class=\"row_heading level0 row6\" >Royal Challengers Bangalore</th>\n      <td id=\"T_058b0_row6_col0\" class=\"data row6 col0\" >6</td>\n    </tr>\n    <tr>\n      <th id=\"T_058b0_level0_row7\" class=\"row_heading level0 row7\" >Deccan Chargers</th>\n      <td id=\"T_058b0_row7_col0\" class=\"data row7 col0\" >4</td>\n    </tr>\n    <tr>\n      <th id=\"T_058b0_level0_row8\" class=\"row_heading level0 row8\" >Sunrisers Hyderabad</th>\n      <td id=\"T_058b0_row8_col0\" class=\"data row8 col0\" >4</td>\n    </tr>\n    <tr>\n      <th id=\"T_058b0_level0_row9\" class=\"row_heading level0 row9\" >Pune Warriors</th>\n      <td id=\"T_058b0_row9_col0\" class=\"data row9 col0\" >3</td>\n    </tr>\n    <tr>\n      <th id=\"T_058b0_level0_row10\" class=\"row_heading level0 row10\" >Gujarat Lions</th>\n      <td id=\"T_058b0_row10_col0\" class=\"data row10 col0\" >1</td>\n    </tr>\n    <tr>\n      <th id=\"T_058b0_level0_row11\" class=\"row_heading level0 row11\" >Delhi Capitals</th>\n      <td id=\"T_058b0_row11_col0\" class=\"data row11 col0\" >0</td>\n    </tr>\n    <tr>\n      <th id=\"T_058b0_level0_row12\" class=\"row_heading level0 row12\" >Kochi Tuskers Kerala</th>\n      <td id=\"T_058b0_row12_col0\" class=\"data row12 col0\" >0</td>\n    </tr>\n    <tr>\n      <th id=\"T_058b0_level0_row13\" class=\"row_heading level0 row13\" >Rising Pune Supergiant</th>\n      <td id=\"T_058b0_row13_col0\" class=\"data row13 col0\" >0</td>\n    </tr>\n    <tr>\n      <th id=\"T_058b0_level0_row14\" class=\"row_heading level0 row14\" >Rising Pune Supergiants</th>\n      <td id=\"T_058b0_row14_col0\" class=\"data row14 col0\" >0</td>\n    </tr>\n  </tbody>\n</table>\n"
                },
                "metadata": {}
              }
            ]
          }
        },
        "c2d4efb2b8fc4b09a1e04c524e7c75f5": {
          "model_module": "@jupyter-widgets/base",
          "model_name": "LayoutModel",
          "model_module_version": "1.2.0",
          "state": {
            "_model_module": "@jupyter-widgets/base",
            "_model_module_version": "1.2.0",
            "_model_name": "LayoutModel",
            "_view_count": null,
            "_view_module": "@jupyter-widgets/base",
            "_view_module_version": "1.2.0",
            "_view_name": "LayoutView",
            "align_content": null,
            "align_items": null,
            "align_self": null,
            "border": null,
            "bottom": null,
            "display": null,
            "flex": null,
            "flex_flow": null,
            "grid_area": null,
            "grid_auto_columns": null,
            "grid_auto_flow": null,
            "grid_auto_rows": null,
            "grid_column": null,
            "grid_gap": null,
            "grid_row": null,
            "grid_template_areas": null,
            "grid_template_columns": null,
            "grid_template_rows": null,
            "height": null,
            "justify_content": null,
            "justify_items": null,
            "left": null,
            "margin": null,
            "max_height": null,
            "max_width": null,
            "min_height": null,
            "min_width": null,
            "object_fit": null,
            "object_position": null,
            "order": null,
            "overflow": null,
            "overflow_x": null,
            "overflow_y": null,
            "padding": null,
            "right": null,
            "top": null,
            "visibility": null,
            "width": null
          }
        },
        "9c70216191cf42b2885ca5aae70f2e6d": {
          "model_module": "@jupyter-widgets/base",
          "model_name": "LayoutModel",
          "model_module_version": "1.2.0",
          "state": {
            "_model_module": "@jupyter-widgets/base",
            "_model_module_version": "1.2.0",
            "_model_name": "LayoutModel",
            "_view_count": null,
            "_view_module": "@jupyter-widgets/base",
            "_view_module_version": "1.2.0",
            "_view_name": "LayoutView",
            "align_content": null,
            "align_items": null,
            "align_self": null,
            "border": null,
            "bottom": null,
            "display": null,
            "flex": null,
            "flex_flow": null,
            "grid_area": null,
            "grid_auto_columns": null,
            "grid_auto_flow": null,
            "grid_auto_rows": null,
            "grid_column": null,
            "grid_gap": null,
            "grid_row": null,
            "grid_template_areas": null,
            "grid_template_columns": null,
            "grid_template_rows": null,
            "height": null,
            "justify_content": null,
            "justify_items": null,
            "left": null,
            "margin": null,
            "max_height": null,
            "max_width": null,
            "min_height": null,
            "min_width": null,
            "object_fit": null,
            "object_position": null,
            "order": null,
            "overflow": null,
            "overflow_x": null,
            "overflow_y": null,
            "padding": null,
            "right": null,
            "top": null,
            "visibility": null,
            "width": null
          }
        },
        "ebcf2879dca74abfaeb0e289e35a40fe": {
          "model_module": "@jupyter-widgets/controls",
          "model_name": "DescriptionStyleModel",
          "model_module_version": "1.5.0",
          "state": {
            "_model_module": "@jupyter-widgets/controls",
            "_model_module_version": "1.5.0",
            "_model_name": "DescriptionStyleModel",
            "_view_count": null,
            "_view_module": "@jupyter-widgets/base",
            "_view_module_version": "1.2.0",
            "_view_name": "StyleView",
            "description_width": ""
          }
        },
        "e26e6452c1684b37994ee2fdb0bf69d7": {
          "model_module": "@jupyter-widgets/base",
          "model_name": "LayoutModel",
          "model_module_version": "1.2.0",
          "state": {
            "_model_module": "@jupyter-widgets/base",
            "_model_module_version": "1.2.0",
            "_model_name": "LayoutModel",
            "_view_count": null,
            "_view_module": "@jupyter-widgets/base",
            "_view_module_version": "1.2.0",
            "_view_name": "LayoutView",
            "align_content": null,
            "align_items": null,
            "align_self": null,
            "border": null,
            "bottom": null,
            "display": null,
            "flex": null,
            "flex_flow": null,
            "grid_area": null,
            "grid_auto_columns": null,
            "grid_auto_flow": null,
            "grid_auto_rows": null,
            "grid_column": null,
            "grid_gap": null,
            "grid_row": null,
            "grid_template_areas": null,
            "grid_template_columns": null,
            "grid_template_rows": null,
            "height": null,
            "justify_content": null,
            "justify_items": null,
            "left": null,
            "margin": null,
            "max_height": null,
            "max_width": null,
            "min_height": null,
            "min_width": null,
            "object_fit": null,
            "object_position": null,
            "order": null,
            "overflow": null,
            "overflow_x": null,
            "overflow_y": null,
            "padding": null,
            "right": null,
            "top": null,
            "visibility": null,
            "width": null
          }
        },
        "ed6b3594d58d422aac537d816d2d2d29": {
          "model_module": "@jupyter-widgets/controls",
          "model_name": "VBoxModel",
          "model_module_version": "1.5.0",
          "state": {
            "_dom_classes": [
              "widget-interact"
            ],
            "_model_module": "@jupyter-widgets/controls",
            "_model_module_version": "1.5.0",
            "_model_name": "VBoxModel",
            "_view_count": null,
            "_view_module": "@jupyter-widgets/controls",
            "_view_module_version": "1.5.0",
            "_view_name": "VBoxView",
            "box_style": "",
            "children": [
              "IPY_MODEL_43bc9b676c2646a79298ad9a75baafdc",
              "IPY_MODEL_ab8457218b26498184210f8ea7a69652"
            ],
            "layout": "IPY_MODEL_6b8d06aff5904974ba6a59e071ae89d2"
          }
        },
        "43bc9b676c2646a79298ad9a75baafdc": {
          "model_module": "@jupyter-widgets/controls",
          "model_name": "DropdownModel",
          "model_module_version": "1.5.0",
          "state": {
            "_dom_classes": [],
            "_model_module": "@jupyter-widgets/controls",
            "_model_module_version": "1.5.0",
            "_model_name": "DropdownModel",
            "_options_labels": [
              "Mumbai Indians",
              "Kings XI Punjab",
              "Chennai Super Kings",
              "Royal Challengers Bangalore",
              "Kolkata Knight Riders",
              "Delhi Daredevils",
              "Rajasthan Royals",
              "Sunrisers Hyderabad",
              "Deccan Chargers",
              "Pune Warriors",
              "Gujarat Lions",
              "Rising Pune Supergiant",
              "Kochi Tuskers Kerala",
              "Rising Pune Supergiants",
              "Delhi Capitals"
            ],
            "_view_count": null,
            "_view_module": "@jupyter-widgets/controls",
            "_view_module_version": "1.5.0",
            "_view_name": "DropdownView",
            "description": "team",
            "description_tooltip": null,
            "disabled": false,
            "index": 0,
            "layout": "IPY_MODEL_e100e9e233c74ada9e2ff92d9a43ff61",
            "style": "IPY_MODEL_626eda4de13c41019311246bcbb581ae"
          }
        },
        "ab8457218b26498184210f8ea7a69652": {
          "model_module": "@jupyter-widgets/output",
          "model_name": "OutputModel",
          "model_module_version": "1.0.0",
          "state": {
            "_dom_classes": [],
            "_model_module": "@jupyter-widgets/output",
            "_model_module_version": "1.0.0",
            "_model_name": "OutputModel",
            "_view_count": null,
            "_view_module": "@jupyter-widgets/output",
            "_view_module_version": "1.0.0",
            "_view_name": "OutputView",
            "layout": "IPY_MODEL_2d4e98a57323441fa511aad7c54930d5",
            "msg_id": "",
            "outputs": [
              {
                "output_type": "display_data",
                "data": {
                  "text/plain": "Mumbai            53\nKolkata           10\nBengaluru          9\nHyderabad          7\nChennai            5\nPune               4\nChandigarh         4\nDelhi              4\nJaipur             2\nVisakhapatnam      2\nPort Elizabeth     2\nIndore             2\nCenturion          1\nEast London        1\nCape Town          1\nRajkot             1\nAhmedabad          1\nName: city, dtype: int64"
                },
                "metadata": {}
              }
            ]
          }
        },
        "6b8d06aff5904974ba6a59e071ae89d2": {
          "model_module": "@jupyter-widgets/base",
          "model_name": "LayoutModel",
          "model_module_version": "1.2.0",
          "state": {
            "_model_module": "@jupyter-widgets/base",
            "_model_module_version": "1.2.0",
            "_model_name": "LayoutModel",
            "_view_count": null,
            "_view_module": "@jupyter-widgets/base",
            "_view_module_version": "1.2.0",
            "_view_name": "LayoutView",
            "align_content": null,
            "align_items": null,
            "align_self": null,
            "border": null,
            "bottom": null,
            "display": null,
            "flex": null,
            "flex_flow": null,
            "grid_area": null,
            "grid_auto_columns": null,
            "grid_auto_flow": null,
            "grid_auto_rows": null,
            "grid_column": null,
            "grid_gap": null,
            "grid_row": null,
            "grid_template_areas": null,
            "grid_template_columns": null,
            "grid_template_rows": null,
            "height": null,
            "justify_content": null,
            "justify_items": null,
            "left": null,
            "margin": null,
            "max_height": null,
            "max_width": null,
            "min_height": null,
            "min_width": null,
            "object_fit": null,
            "object_position": null,
            "order": null,
            "overflow": null,
            "overflow_x": null,
            "overflow_y": null,
            "padding": null,
            "right": null,
            "top": null,
            "visibility": null,
            "width": null
          }
        },
        "e100e9e233c74ada9e2ff92d9a43ff61": {
          "model_module": "@jupyter-widgets/base",
          "model_name": "LayoutModel",
          "model_module_version": "1.2.0",
          "state": {
            "_model_module": "@jupyter-widgets/base",
            "_model_module_version": "1.2.0",
            "_model_name": "LayoutModel",
            "_view_count": null,
            "_view_module": "@jupyter-widgets/base",
            "_view_module_version": "1.2.0",
            "_view_name": "LayoutView",
            "align_content": null,
            "align_items": null,
            "align_self": null,
            "border": null,
            "bottom": null,
            "display": null,
            "flex": null,
            "flex_flow": null,
            "grid_area": null,
            "grid_auto_columns": null,
            "grid_auto_flow": null,
            "grid_auto_rows": null,
            "grid_column": null,
            "grid_gap": null,
            "grid_row": null,
            "grid_template_areas": null,
            "grid_template_columns": null,
            "grid_template_rows": null,
            "height": null,
            "justify_content": null,
            "justify_items": null,
            "left": null,
            "margin": null,
            "max_height": null,
            "max_width": null,
            "min_height": null,
            "min_width": null,
            "object_fit": null,
            "object_position": null,
            "order": null,
            "overflow": null,
            "overflow_x": null,
            "overflow_y": null,
            "padding": null,
            "right": null,
            "top": null,
            "visibility": null,
            "width": null
          }
        },
        "626eda4de13c41019311246bcbb581ae": {
          "model_module": "@jupyter-widgets/controls",
          "model_name": "DescriptionStyleModel",
          "model_module_version": "1.5.0",
          "state": {
            "_model_module": "@jupyter-widgets/controls",
            "_model_module_version": "1.5.0",
            "_model_name": "DescriptionStyleModel",
            "_view_count": null,
            "_view_module": "@jupyter-widgets/base",
            "_view_module_version": "1.2.0",
            "_view_name": "StyleView",
            "description_width": ""
          }
        },
        "2d4e98a57323441fa511aad7c54930d5": {
          "model_module": "@jupyter-widgets/base",
          "model_name": "LayoutModel",
          "model_module_version": "1.2.0",
          "state": {
            "_model_module": "@jupyter-widgets/base",
            "_model_module_version": "1.2.0",
            "_model_name": "LayoutModel",
            "_view_count": null,
            "_view_module": "@jupyter-widgets/base",
            "_view_module_version": "1.2.0",
            "_view_name": "LayoutView",
            "align_content": null,
            "align_items": null,
            "align_self": null,
            "border": null,
            "bottom": null,
            "display": null,
            "flex": null,
            "flex_flow": null,
            "grid_area": null,
            "grid_auto_columns": null,
            "grid_auto_flow": null,
            "grid_auto_rows": null,
            "grid_column": null,
            "grid_gap": null,
            "grid_row": null,
            "grid_template_areas": null,
            "grid_template_columns": null,
            "grid_template_rows": null,
            "height": null,
            "justify_content": null,
            "justify_items": null,
            "left": null,
            "margin": null,
            "max_height": null,
            "max_width": null,
            "min_height": null,
            "min_width": null,
            "object_fit": null,
            "object_position": null,
            "order": null,
            "overflow": null,
            "overflow_x": null,
            "overflow_y": null,
            "padding": null,
            "right": null,
            "top": null,
            "visibility": null,
            "width": null
          }
        },
        "bc4436ee3e2d4c67bbff045cf75658ed": {
          "model_module": "@jupyter-widgets/controls",
          "model_name": "VBoxModel",
          "model_module_version": "1.5.0",
          "state": {
            "_dom_classes": [
              "widget-interact"
            ],
            "_model_module": "@jupyter-widgets/controls",
            "_model_module_version": "1.5.0",
            "_model_name": "VBoxModel",
            "_view_count": null,
            "_view_module": "@jupyter-widgets/controls",
            "_view_module_version": "1.5.0",
            "_view_name": "VBoxView",
            "box_style": "",
            "children": [
              "IPY_MODEL_917ee1101aa647399625a3967c0a20b5",
              "IPY_MODEL_8a7b22d3df6545898e26673acacb9a2d"
            ],
            "layout": "IPY_MODEL_6800c7023de44fbb8da67a4f44dff030"
          }
        },
        "917ee1101aa647399625a3967c0a20b5": {
          "model_module": "@jupyter-widgets/controls",
          "model_name": "DropdownModel",
          "model_module_version": "1.5.0",
          "state": {
            "_dom_classes": [],
            "_model_module": "@jupyter-widgets/controls",
            "_model_module_version": "1.5.0",
            "_model_name": "DropdownModel",
            "_options_labels": [
              "Mumbai Indians",
              "Kolkata Knight Riders",
              "Chennai Super Kings",
              "Royal Challengers Bangalore",
              "Kings XI Punjab",
              "Delhi Daredevils",
              "Rajasthan Royals",
              "Sunrisers Hyderabad",
              "Deccan Chargers",
              "Pune Warriors",
              "Gujarat Lions",
              "Delhi Capitals",
              "Kochi Tuskers Kerala",
              "Rising Pune Supergiants",
              "Rising Pune Supergiant"
            ],
            "_view_count": null,
            "_view_module": "@jupyter-widgets/controls",
            "_view_module_version": "1.5.0",
            "_view_name": "DropdownView",
            "description": "team",
            "description_tooltip": null,
            "disabled": false,
            "index": 0,
            "layout": "IPY_MODEL_863fec3ece4349e9be75adcb2ba48558",
            "style": "IPY_MODEL_61c5e75148bb431483820f89abf5fb05"
          }
        },
        "8a7b22d3df6545898e26673acacb9a2d": {
          "model_module": "@jupyter-widgets/output",
          "model_name": "OutputModel",
          "model_module_version": "1.0.0",
          "state": {
            "_dom_classes": [],
            "_model_module": "@jupyter-widgets/output",
            "_model_module_version": "1.0.0",
            "_model_name": "OutputModel",
            "_view_count": null,
            "_view_module": "@jupyter-widgets/output",
            "_view_module_version": "1.0.0",
            "_view_name": "OutputView",
            "layout": "IPY_MODEL_f4fe298505bc41648c4f24fc7d9660c5",
            "msg_id": "",
            "outputs": [
              {
                "output_type": "display_data",
                "data": {
                  "text/plain": "field    54\nbat      44\nName: toss_decision, dtype: int64"
                },
                "metadata": {}
              }
            ]
          }
        },
        "6800c7023de44fbb8da67a4f44dff030": {
          "model_module": "@jupyter-widgets/base",
          "model_name": "LayoutModel",
          "model_module_version": "1.2.0",
          "state": {
            "_model_module": "@jupyter-widgets/base",
            "_model_module_version": "1.2.0",
            "_model_name": "LayoutModel",
            "_view_count": null,
            "_view_module": "@jupyter-widgets/base",
            "_view_module_version": "1.2.0",
            "_view_name": "LayoutView",
            "align_content": null,
            "align_items": null,
            "align_self": null,
            "border": null,
            "bottom": null,
            "display": null,
            "flex": null,
            "flex_flow": null,
            "grid_area": null,
            "grid_auto_columns": null,
            "grid_auto_flow": null,
            "grid_auto_rows": null,
            "grid_column": null,
            "grid_gap": null,
            "grid_row": null,
            "grid_template_areas": null,
            "grid_template_columns": null,
            "grid_template_rows": null,
            "height": null,
            "justify_content": null,
            "justify_items": null,
            "left": null,
            "margin": null,
            "max_height": null,
            "max_width": null,
            "min_height": null,
            "min_width": null,
            "object_fit": null,
            "object_position": null,
            "order": null,
            "overflow": null,
            "overflow_x": null,
            "overflow_y": null,
            "padding": null,
            "right": null,
            "top": null,
            "visibility": null,
            "width": null
          }
        },
        "863fec3ece4349e9be75adcb2ba48558": {
          "model_module": "@jupyter-widgets/base",
          "model_name": "LayoutModel",
          "model_module_version": "1.2.0",
          "state": {
            "_model_module": "@jupyter-widgets/base",
            "_model_module_version": "1.2.0",
            "_model_name": "LayoutModel",
            "_view_count": null,
            "_view_module": "@jupyter-widgets/base",
            "_view_module_version": "1.2.0",
            "_view_name": "LayoutView",
            "align_content": null,
            "align_items": null,
            "align_self": null,
            "border": null,
            "bottom": null,
            "display": null,
            "flex": null,
            "flex_flow": null,
            "grid_area": null,
            "grid_auto_columns": null,
            "grid_auto_flow": null,
            "grid_auto_rows": null,
            "grid_column": null,
            "grid_gap": null,
            "grid_row": null,
            "grid_template_areas": null,
            "grid_template_columns": null,
            "grid_template_rows": null,
            "height": null,
            "justify_content": null,
            "justify_items": null,
            "left": null,
            "margin": null,
            "max_height": null,
            "max_width": null,
            "min_height": null,
            "min_width": null,
            "object_fit": null,
            "object_position": null,
            "order": null,
            "overflow": null,
            "overflow_x": null,
            "overflow_y": null,
            "padding": null,
            "right": null,
            "top": null,
            "visibility": null,
            "width": null
          }
        },
        "61c5e75148bb431483820f89abf5fb05": {
          "model_module": "@jupyter-widgets/controls",
          "model_name": "DescriptionStyleModel",
          "model_module_version": "1.5.0",
          "state": {
            "_model_module": "@jupyter-widgets/controls",
            "_model_module_version": "1.5.0",
            "_model_name": "DescriptionStyleModel",
            "_view_count": null,
            "_view_module": "@jupyter-widgets/base",
            "_view_module_version": "1.2.0",
            "_view_name": "StyleView",
            "description_width": ""
          }
        },
        "f4fe298505bc41648c4f24fc7d9660c5": {
          "model_module": "@jupyter-widgets/base",
          "model_name": "LayoutModel",
          "model_module_version": "1.2.0",
          "state": {
            "_model_module": "@jupyter-widgets/base",
            "_model_module_version": "1.2.0",
            "_model_name": "LayoutModel",
            "_view_count": null,
            "_view_module": "@jupyter-widgets/base",
            "_view_module_version": "1.2.0",
            "_view_name": "LayoutView",
            "align_content": null,
            "align_items": null,
            "align_self": null,
            "border": null,
            "bottom": null,
            "display": null,
            "flex": null,
            "flex_flow": null,
            "grid_area": null,
            "grid_auto_columns": null,
            "grid_auto_flow": null,
            "grid_auto_rows": null,
            "grid_column": null,
            "grid_gap": null,
            "grid_row": null,
            "grid_template_areas": null,
            "grid_template_columns": null,
            "grid_template_rows": null,
            "height": null,
            "justify_content": null,
            "justify_items": null,
            "left": null,
            "margin": null,
            "max_height": null,
            "max_width": null,
            "min_height": null,
            "min_width": null,
            "object_fit": null,
            "object_position": null,
            "order": null,
            "overflow": null,
            "overflow_x": null,
            "overflow_y": null,
            "padding": null,
            "right": null,
            "top": null,
            "visibility": null,
            "width": null
          }
        }
      }
    }
  },
  "nbformat": 4,
  "nbformat_minor": 0
}